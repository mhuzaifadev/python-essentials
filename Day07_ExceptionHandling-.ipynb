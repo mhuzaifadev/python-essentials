{
  "nbformat": 4,
  "nbformat_minor": 0,
  "metadata": {
    "colab": {
      "provenance": []
    },
    "kernelspec": {
      "name": "python3",
      "display_name": "Python 3"
    },
    "language_info": {
      "name": "python"
    }
  },
  "cells": [
    {
      "cell_type": "markdown",
      "source": [
        "# **Chapter 7 Exception Handling Workshop**\n",
        "\n",
        "\n",
        "Exception Handling, a pivotal programming technique, empowers developers to gracefully navigate the unpredictable realm of code execution. By encapsulating risky code within a \"try\" block and providing tailored solutions in corresponding \"except\" blocks, software can gracefully recover from unexpected hiccups.\n",
        "\n",
        "Each exception type is like a note in a melody, with specific \"except\" blocks addressing distinct errors. Custom exception classes enhance this, offering users clear, informative error messages akin to signposts in unfamiliar terrain.\n",
        "\n",
        "The \"finally\" block acts as a safety net, ensuring essential cleanup operations are executed regardless of success or failure.\n",
        "\n",
        "Exception Handling's influence extends beyond borders. Exceptions can be caught, tweaked, and re-raised, facilitating control across different code layers.\n",
        "\n",
        "In this code symphony, Exception Handling conducts harmony. It transforms a potentially chaotic script into a resilient masterpiece, ensuring software remains steadfast and reliable amidst the unpredictable symphony of programming challenges.\n",
        "\n",
        "\n",
        "<br>\n",
        "\n",
        "\n",
        "##  **7.1 `try`...`except` Block**\n",
        "\n",
        "- The basic structure of exception handling using `try` and `except`\n",
        "- Handling specific exceptions using separate `except` blocks"
      ],
      "metadata": {
        "id": "j-umLCTYN9ey"
      }
    },
    {
      "cell_type": "code",
      "execution_count": null,
      "metadata": {
        "id": "jyJ9KT5tN3Fz",
        "colab": {
          "base_uri": "https://localhost:8080/"
        },
        "outputId": "b0dde194-54b7-4752-8b1f-a93e27158c6a"
      },
      "outputs": [
        {
          "output_type": "stream",
          "name": "stdout",
          "text": [
            "Enter a number: 0\n",
            "Error: Cannot divide by zero\n",
            "Execution complete\n"
          ]
        }
      ],
      "source": [
        "try:\n",
        "    num = int(input(\"Enter a number: \"))\n",
        "    result = 10 / num\n",
        "except ZeroDivisionError:\n",
        "    print(\"Error: Cannot divide by zero\")\n",
        "except ValueError:\n",
        "    print(\"Error: Invalid input\")\n",
        "else:\n",
        "    print(\"Result:\", result)\n",
        "finally:\n",
        "    print(\"Execution complete\")\n"
      ]
    },
    {
      "cell_type": "markdown",
      "source": [
        "## **7.2 Handling Multiple Exceptions**\n",
        "\n",
        "- Handling multiple exceptions using a single `except` block\n",
        "- Grouping multiple exceptions using parentheses"
      ],
      "metadata": {
        "id": "4iy6SFl0OE36"
      }
    },
    {
      "cell_type": "code",
      "source": [
        "try:\n",
        "    value = int(input(\"Enter a value: \"))\n",
        "    result = 20 / value\n",
        "except (ValueError, ZeroDivisionError):\n",
        "    print(\"Error: Invalid input or division by zero\")\n",
        "else:\n",
        "    print(\"Result:\", result)\n"
      ],
      "metadata": {
        "id": "Yp-FCwdcOF8n",
        "colab": {
          "base_uri": "https://localhost:8080/"
        },
        "outputId": "518dcd96-f5c1-4b0e-c272-f03c0ddbc8fc"
      },
      "execution_count": null,
      "outputs": [
        {
          "output_type": "stream",
          "name": "stdout",
          "text": [
            "Enter a value: h\n",
            "Error: Invalid input or division by zero\n"
          ]
        }
      ]
    },
    {
      "cell_type": "markdown",
      "source": [
        "## **7.3 Catching Specific Exceptions**\n",
        "\n",
        "- Catching and handling specific built-in exceptions\n",
        "- Using the `as` keyword to assign exception instances to variables\n"
      ],
      "metadata": {
        "id": "q2gu1FwROHwL"
      }
    },
    {
      "cell_type": "code",
      "source": [
        "try:\n",
        "    index = int(input(\"Enter an index: \"))\n",
        "    my_list = [1, 2, 3]\n",
        "    print(\"Value at index:\", my_list[index])\n",
        "except IndexError as variable:\n",
        "    print(\"Error:\", variable)\n"
      ],
      "metadata": {
        "id": "s1xjDoY7OLp2",
        "colab": {
          "base_uri": "https://localhost:8080/"
        },
        "outputId": "919b6347-6528-47f0-dcdf-fad1197819f0"
      },
      "execution_count": null,
      "outputs": [
        {
          "output_type": "stream",
          "name": "stdout",
          "text": [
            "Enter an index: 10\n",
            "Error: list index out of range\n"
          ]
        }
      ]
    },
    {
      "cell_type": "markdown",
      "source": [
        "## **7.4 Types of Errors in Python**\n",
        "\n",
        "| Error Type          | Description                                      | Example Code                       |\n",
        "|---------------------|--------------------------------------------------|------------------------------------|\n",
        "| Syntax Error        | Violation of Python syntax rules                | `print(\"Hello, world!\"`             |\n",
        "| Indentation Error   | Incorrect or inconsistent code indentation      | `if True:\\n    print(\"Indentation error\")` |\n",
        "| Name Error          | Use of undefined variable or function           | `x = 5\\nprint(y)`                  |\n",
        "| Type Error          | Operations on incompatible data types           | `num = \"10\"\\nresult = num + 5`     |\n",
        "| Index Error         | Accessing index out of range in a sequence      | `my_list = [1, 2, 3]\\nprint(my_list[5])` |\n",
        "| Value Error         | Invalid value passed to a function              | `num = int(\"abc\")`                 |\n",
        "| Key Error           | Accessing a non-existent key in a dictionary   | `my_dict = {\"key1\": \"value1\"}\\nprint(my_dict[\"key2\"])` |\n",
        "| Attribute Error     | Accessing non-existent attribute or method     | `text = \"Hello, world!\"\\nprint(text.length())` |\n",
        "| ZeroDivision Error  | Division by zero                                | `result = 10 / 0`                  |\n",
        "| File Not Found Error| Attempting to access a non-existent file        | `file = open(\"nonexistent.txt\", \"r\")` |\n",
        "| IO Error            | Input/output operation failure                  | `file = open(\"sample.txt\", \"r\")\\nfile.write(\"Error\")` |\n",
        "| Import Error        | Failing to import a module or package           | `import non_existent_module`      |\n",
        "| Exception (Generic) | Base class for all exceptions                   | `try:\\n    num = int(\"abc\")\\nexcept Exception as e:\\n    print(\"Exception:\", e)` |\n"
      ],
      "metadata": {
        "id": "ygTYluxBQp4M"
      }
    },
    {
      "cell_type": "markdown",
      "source": [
        "## **7.5 Custom Exceptions**\n",
        "\n",
        "- Creating custom exception classes by inheriting from the `Exception` class\n",
        "- Adding custom attributes and methods to custom exception classes\n"
      ],
      "metadata": {
        "id": "qlm3lXSuOPPH"
      }
    },
    {
      "cell_type": "code",
      "source": [
        "class MyCustomError(Exception):\n",
        "    def __init__(self, message):\n",
        "        self.message = message\n",
        "\n",
        "try:\n",
        "    a =10\n",
        "    if a == 10:\n",
        "      raise MyCustomError(\"a cannot be equal to 10\")\n",
        "except MyCustomError as e:\n",
        "    print(\"Custom Exception:\", e.message)\n"
      ],
      "metadata": {
        "id": "F9HHsfhhOR67",
        "colab": {
          "base_uri": "https://localhost:8080/"
        },
        "outputId": "d6db6575-49ca-456e-800d-bdd9d55bf309"
      },
      "execution_count": null,
      "outputs": [
        {
          "output_type": "stream",
          "name": "stdout",
          "text": [
            "Custom Exception: a cannot be equal to 10\n"
          ]
        }
      ]
    },
    {
      "cell_type": "markdown",
      "source": [
        "## **7.6 `finally` Block and Cleanup**\n",
        "\n",
        "- Handling exceptions raised within functions using `try`...`except` blocks\n",
        "- Propagating exceptions to calling code using the `raise` statement\n"
      ],
      "metadata": {
        "id": "ic4R22clOr1G"
      }
    },
    {
      "cell_type": "code",
      "source": [
        "try:\n",
        "    file = open(\"sample.txt\", \"r\")\n",
        "    content = file.read()\n",
        "except FileNotFoundError:\n",
        "    print(\"Error: File not found\")\n",
        "finally:\n",
        "    print(\"FINALS\")"
      ],
      "metadata": {
        "id": "9yNu4I2WOxqO",
        "colab": {
          "base_uri": "https://localhost:8080/"
        },
        "outputId": "206daf84-0ade-44b0-8859-0c5ad25f4fc1"
      },
      "execution_count": null,
      "outputs": [
        {
          "output_type": "stream",
          "name": "stdout",
          "text": [
            "Error: File not found\n",
            "FINALS\n"
          ]
        }
      ]
    },
    {
      "cell_type": "markdown",
      "source": [
        "## **7.7 Nested Exception Handling**\n",
        "\n",
        "- Nesting `try`...`except` blocks for finer-grained exception handling\n",
        "- Proper indentation and order of nested blocks\n",
        "\n",
        "\n"
      ],
      "metadata": {
        "id": "7LopRrWjOr28"
      }
    },
    {
      "cell_type": "code",
      "source": [
        "try:\n",
        "    try:\n",
        "        value = int(input(\"Enter a value: \"))\n",
        "        result = 50 / value\n",
        "    except ZeroDivisionError:\n",
        "        print(\"Error: Cannot divide by zero\")\n",
        "    else:\n",
        "        print(\"Result:\", result)\n",
        "except ValueError:\n",
        "    print(\"Error: Invalid input\")\n"
      ],
      "metadata": {
        "id": "esGLQhFuO32Z",
        "colab": {
          "base_uri": "https://localhost:8080/"
        },
        "outputId": "2ffe4e21-c023-467e-c076-32ed1fa832ab"
      },
      "execution_count": null,
      "outputs": [
        {
          "output_type": "stream",
          "name": "stdout",
          "text": [
            "Enter a value: io\n",
            "Error: Invalid input\n"
          ]
        }
      ]
    },
    {
      "cell_type": "markdown",
      "source": [
        "## **7.8 Unhandled Exceptions and Debugging**\n",
        "\n",
        "- Understanding unhandled exceptions and their impact on program execution\n",
        "- Techniques for debugging exception-related issues\n"
      ],
      "metadata": {
        "id": "5Pte66zIO8D5"
      }
    },
    {
      "cell_type": "code",
      "source": [
        "try:\n",
        "    num = int(input(\"Enter a number: \"))\n",
        "    result = 5 / num\n",
        "except (ZeroDivisionError, ValueError):\n",
        "    print(\"Error: Cannot divide by\", num)\n",
        "else:\n",
        "    print(\"Result:\", result)\n"
      ],
      "metadata": {
        "id": "NG6u3wJnO-bj",
        "colab": {
          "base_uri": "https://localhost:8080/"
        },
        "outputId": "3d5a9ca6-d9bb-4b39-a45c-5038a2c9cc47"
      },
      "execution_count": null,
      "outputs": [
        {
          "output_type": "stream",
          "name": "stdout",
          "text": [
            "Enter a number: p\n",
            "Error: Cannot divide by 4\n"
          ]
        }
      ]
    },
    {
      "cell_type": "markdown",
      "source": [],
      "metadata": {
        "id": "OcMx3lgv-aqR"
      }
    },
    {
      "cell_type": "markdown",
      "source": [
        "## **Best Practices and Tips**\n",
        "\n",
        "- Keeping `try...except` blocks as focused as possible\n",
        "- Using specific exception types instead of catching all exceptions\n",
        "- Logging and error reporting within exception handling\n",
        "- Documenting exception handling strategies in code comments"
      ],
      "metadata": {
        "id": "l72Jbbd5O8E1"
      }
    },
    {
      "cell_type": "markdown",
      "source": [
        "# **Homework Day 07**\n",
        "\n",
        "### **Homework Task 1: Custom Exception Handling**\n",
        "\n",
        "**Hint:** Create a custom exception class for handling a specific type of error. Use this custom exception in a function that calculates the factorial of a given positive integer.\n",
        "\n",
        "**Elaborated Logic:**\n",
        "1. Define a custom exception class `FactorialError` that inherits from the base `Exception` class. This exception will be raised when there's an issue with calculating the factorial.\n",
        "2. Create a function `calculate_factorial(n)` that takes a positive integer `n` as input.\n",
        "3. Inside the function, use a `try`...`except` block to handle possible exceptions. If the input `n` is negative or not an integer, raise a `FactorialError` with a custom error message.\n",
        "4. Calculate the factorial using a loop and return the result.\n",
        "5. Outside the function, prompt the user to input an integer, call the `calculate_factorial` function, and handle any `FactorialError` exceptions by printing the custom error message.\n",
        "\n",
        "<br>\n",
        "\n",
        "\n",
        "### **Homework Task 2: File Handling and Exception Propagation**\n",
        "\n",
        "**Hint:** Write a program that reads data from a file, performs some operations, and raises exceptions if necessary. Create a custom exception class for file-related errors.\n",
        "\n",
        "**Elaborated Logic:**\n",
        "1. Define a custom exception class `FileProcessingError` that inherits from the base `Exception` class. This exception will be raised when there's an issue with file processing.\n",
        "2. Create a function `process_file(file_name)` that takes a file name as input.\n",
        "3. Inside the function, use a `try`...`except` block to handle possible exceptions while opening and reading the file. If the file does not exist, raise a `FileProcessingError` with a custom error message.\n",
        "4. Read the content of the file and perform some operation (e.g., count the number of words).\n",
        "5. Outside the function, call the `process_file` function with a valid file name. Handle any `FileProcessingError` exceptions by printing the custom error message."
      ],
      "metadata": {
        "id": "yzraSnpqSb2u"
      }
    }
  ]
}