{
  "nbformat": 4,
  "nbformat_minor": 0,
  "metadata": {
    "colab": {
      "provenance": []
    },
    "kernelspec": {
      "name": "python3",
      "display_name": "Python 3"
    },
    "language_info": {
      "name": "python"
    }
  },
  "cells": [
    {
      "cell_type": "markdown",
      "source": [
        "## **Chapter 9: Advanced Topics in Python**\n",
        "\n",
        "### **9.1 Map Function**\n",
        "\n",
        "The `map` function applies a given function to all the items in an input list. It's useful when you want to perform the same operation (e.g., transformation) on all elements of an iterable like a list.\n",
        "\n",
        "### When to Use\n",
        "Use the `map` function when you want to apply a function to all elements in an iterable without writing a loop.\n",
        "\n"
      ],
      "metadata": {
        "id": "A8FAKMziqSQG"
      }
    },
    {
      "cell_type": "code",
      "execution_count": 20,
      "metadata": {
        "id": "1vEQDuG7qIF1",
        "colab": {
          "base_uri": "https://localhost:8080/"
        },
        "outputId": "218d6a38-c5ba-428b-930c-ab06564935f3"
      },
      "outputs": [
        {
          "output_type": "stream",
          "name": "stdout",
          "text": [
            "[1, 4, 9, 16, 25]\n"
          ]
        }
      ],
      "source": [
        "numbers = [1, 2, 3, 4, 5]\n",
        "squares = map(lambda x: x**2, numbers)\n",
        "print(list(squares))"
      ]
    },
    {
      "cell_type": "code",
      "source": [
        "def add_five(x):\n",
        "    return x + 5\n",
        "\n",
        "numbers = [1, 2, 3, 4, 5]\n",
        "result = map(add_five, numbers)\n",
        "print(list(result))"
      ],
      "metadata": {
        "id": "Gzh-z2sxrABf",
        "colab": {
          "base_uri": "https://localhost:8080/"
        },
        "outputId": "90af7f2f-1b53-4d28-ca6b-e50a3d27a83d"
      },
      "execution_count": 23,
      "outputs": [
        {
          "output_type": "stream",
          "name": "stdout",
          "text": [
            "[6, 7, 8, 9, 10]\n"
          ]
        }
      ]
    },
    {
      "cell_type": "markdown",
      "source": [
        "### **9.2 itertools**\n",
        "\n",
        "The `itertools` module provides a set of fast, memory-efficient tools for working with iterators. It is useful for creating efficient loops.\n",
        "\n",
        "### When to Use\n",
        "Use `itertools` when you want to create complex iterators or combine multiple iterators in an efficient way."
      ],
      "metadata": {
        "id": "URXb68j3rGAw"
      }
    },
    {
      "cell_type": "code",
      "source": [
        "import itertools\n",
        "\n",
        "for combination in itertools.combinations([1, 2, 3, 4, 5], 3):\n",
        "    print(combination)\n"
      ],
      "metadata": {
        "id": "Qr8bfL9trOA2",
        "colab": {
          "base_uri": "https://localhost:8080/"
        },
        "outputId": "92e5fa85-7cf3-41ee-9361-dde17bf4c6f3"
      },
      "execution_count": 31,
      "outputs": [
        {
          "output_type": "stream",
          "name": "stdout",
          "text": [
            "(1, 2, 3)\n",
            "(1, 2, 4)\n",
            "(1, 2, 5)\n",
            "(1, 3, 4)\n",
            "(1, 3, 5)\n",
            "(1, 4, 5)\n",
            "(2, 3, 4)\n",
            "(2, 3, 5)\n",
            "(2, 4, 5)\n",
            "(3, 4, 5)\n"
          ]
        }
      ]
    },
    {
      "cell_type": "code",
      "source": [
        "import itertools\n",
        "\n",
        "for permutation in itertools.permutations([1, 2, 3,4, 5], 2):\n",
        "    print(permutation)"
      ],
      "metadata": {
        "id": "Mbl3HYwTrSNu",
        "colab": {
          "base_uri": "https://localhost:8080/"
        },
        "outputId": "4070c7b5-f512-4729-bf94-83134a3ae706"
      },
      "execution_count": 35,
      "outputs": [
        {
          "output_type": "stream",
          "name": "stdout",
          "text": [
            "(1, 2)\n",
            "(1, 3)\n",
            "(1, 4)\n",
            "(1, 5)\n",
            "(2, 1)\n",
            "(2, 3)\n",
            "(2, 4)\n",
            "(2, 5)\n",
            "(3, 1)\n",
            "(3, 2)\n",
            "(3, 4)\n",
            "(3, 5)\n",
            "(4, 1)\n",
            "(4, 2)\n",
            "(4, 3)\n",
            "(4, 5)\n",
            "(5, 1)\n",
            "(5, 2)\n",
            "(5, 3)\n",
            "(5, 4)\n"
          ]
        }
      ]
    },
    {
      "cell_type": "markdown",
      "source": [
        "## **9.3 Lambda Function**\n",
        "\n",
        "Lambda functions are small, anonymous functions defined with the `lambda` keyword. They can have any number of arguments but only one expression.\n",
        "\n",
        "### When to Use\n",
        "Use lambda functions when you need a small function for a short period of time and don't want to define it using the `def` keyword."
      ],
      "metadata": {
        "id": "SJLwDNKqrWN8"
      }
    },
    {
      "cell_type": "code",
      "source": [
        "add = lambda x, y: x + y\n",
        "print(add(5, 9))\n",
        "\n",
        "# def add(x,y):\n",
        "#   return x+y"
      ],
      "metadata": {
        "id": "2sfbAtHurcoz",
        "colab": {
          "base_uri": "https://localhost:8080/"
        },
        "outputId": "9abd1964-5379-44fd-f6c9-d544e3ecb23e"
      },
      "execution_count": 37,
      "outputs": [
        {
          "output_type": "stream",
          "name": "stdout",
          "text": [
            "14\n"
          ]
        }
      ]
    },
    {
      "cell_type": "code",
      "source": [
        "numbers = [1, 2, 3, 4, 5, 6, 7, 8, 9, 10]\n",
        "filtered_numbers = filter(lambda x: x % 2 == 1, numbers)\n",
        "print(list(filtered_numbers))"
      ],
      "metadata": {
        "id": "DTqdRglLrZNy",
        "colab": {
          "base_uri": "https://localhost:8080/"
        },
        "outputId": "b93156fa-3f41-452c-c6c6-c60974928073"
      },
      "execution_count": 41,
      "outputs": [
        {
          "output_type": "stream",
          "name": "stdout",
          "text": [
            "[1, 3, 5, 7, 9]\n"
          ]
        }
      ]
    },
    {
      "cell_type": "markdown",
      "source": [
        "## **9.4 Decorators**\n",
        "\n",
        "\n",
        "Decorators are higher-order functions that allow you to add functionality to an existing function without modifying its code.\n",
        "\n",
        "### When to Use\n",
        "Use decorators when you want to extend the functionality of a function or method without altering its code."
      ],
      "metadata": {
        "id": "HO_l_1FKrz1V"
      }
    },
    {
      "cell_type": "code",
      "source": [
        "def my_decorator(func):\n",
        "    def wrapper():\n",
        "        print(\"Something is happening before the function is called.\")\n",
        "        func()\n",
        "        print(\"Something is happening after the function is called.\")\n",
        "    return wrapper\n",
        "\n",
        "@my_decorator\n",
        "def say_hello():\n",
        "    print(\"Hello!\")\n",
        "\n",
        "say_hello()"
      ],
      "metadata": {
        "id": "7lpYBdQYr6L5",
        "colab": {
          "base_uri": "https://localhost:8080/"
        },
        "outputId": "7d1b2d37-183d-48a1-adcf-3c5a0b314b83"
      },
      "execution_count": 42,
      "outputs": [
        {
          "output_type": "stream",
          "name": "stdout",
          "text": [
            "Something is happening before the function is called.\n",
            "Hello!\n",
            "Something is happening after the function is called.\n"
          ]
        }
      ]
    },
    {
      "cell_type": "code",
      "source": [
        "def multiply_by_two(func):\n",
        "    def wrapper(x):\n",
        "        return func(x) * 2\n",
        "    return wrapper\n",
        "\n",
        "@multiply_by_two\n",
        "def add_five(x):\n",
        "    return x + 5\n",
        "\n",
        "result = add_five(3)\n",
        "print(result)"
      ],
      "metadata": {
        "id": "_ca4WKmQr9mr",
        "colab": {
          "base_uri": "https://localhost:8080/"
        },
        "outputId": "1de508a0-0d8f-43e3-843b-686f4fff7ec8"
      },
      "execution_count": 43,
      "outputs": [
        {
          "output_type": "stream",
          "name": "stdout",
          "text": [
            "16\n"
          ]
        }
      ]
    },
    {
      "cell_type": "markdown",
      "source": [
        "## **9.5 Collections**\n",
        "\n",
        "The `collections` module provides alternatives to built-in container data types (like `dict`, `list`, `set`, and `tuple`) with additional functionality.\n",
        "\n",
        "### When to Use\n",
        "Use the `collections` module when you need specialized container datatypes."
      ],
      "metadata": {
        "id": "x_sKBOBor_sn"
      }
    },
    {
      "cell_type": "code",
      "source": [
        "from collections import Counter\n",
        "\n",
        "letters = ['a', 'b', 'c', 'a', 'b', 'c', 'a','d','d','a']\n",
        "count = Counter(letters)\n",
        "print(count)"
      ],
      "metadata": {
        "id": "cZCNqp7_sFrB",
        "colab": {
          "base_uri": "https://localhost:8080/"
        },
        "outputId": "e82846c0-3a7b-425a-ae73-2d4aa144a5eb"
      },
      "execution_count": 45,
      "outputs": [
        {
          "output_type": "stream",
          "name": "stdout",
          "text": [
            "Counter({'a': 4, 'b': 2, 'c': 2, 'd': 2})\n"
          ]
        }
      ]
    },
    {
      "cell_type": "code",
      "source": [
        "from collections import defaultdict\n",
        "\n",
        "d = defaultdict(int)\n",
        "d['a'] += 1\n",
        "d['b'] += 2\n",
        "print(d)"
      ],
      "metadata": {
        "id": "PgdQeByrsJcI",
        "colab": {
          "base_uri": "https://localhost:8080/"
        },
        "outputId": "1d06c057-4a58-4209-a350-6a5d79c308f1"
      },
      "execution_count": 46,
      "outputs": [
        {
          "output_type": "stream",
          "name": "stdout",
          "text": [
            "defaultdict(<class 'int'>, {'a': 1, 'b': 2})\n"
          ]
        }
      ]
    },
    {
      "cell_type": "markdown",
      "source": [
        "## **9.6 Generators**\n",
        "\n",
        "Generators are iterators that enable you to iterate over large sequences of data without loading the entire dataset into memory.\n",
        "\n",
        "### When to Use\n",
        "Use generators when working with large datasets or when you want to generate a sequence of data on the fly without storing it all in memory."
      ],
      "metadata": {
        "id": "_x13CYytsKs5"
      }
    },
    {
      "cell_type": "code",
      "source": [
        "def count_up_to(limit):\n",
        "    count = 1\n",
        "    while count <= limit:\n",
        "        yield count\n",
        "        count += 1\n",
        "\n",
        "counter = count_up_to(5)\n",
        "for number in counter:\n",
        "    print(number)"
      ],
      "metadata": {
        "id": "PFYPkOuKsRfG",
        "colab": {
          "base_uri": "https://localhost:8080/"
        },
        "outputId": "815436f0-4296-4252-80fc-972926573df4"
      },
      "execution_count": 51,
      "outputs": [
        {
          "output_type": "stream",
          "name": "stdout",
          "text": [
            "1\n",
            "2\n",
            "3\n",
            "4\n",
            "5\n"
          ]
        }
      ]
    },
    {
      "cell_type": "code",
      "source": [
        "squares = (x*x for x in range(1, 6))\n",
        "for square in squares:\n",
        "    print(square)"
      ],
      "metadata": {
        "id": "2dPMzGzrsTnu",
        "colab": {
          "base_uri": "https://localhost:8080/"
        },
        "outputId": "96c37df6-e040-4604-8466-997b2d5621e4"
      },
      "execution_count": 53,
      "outputs": [
        {
          "output_type": "stream",
          "name": "stdout",
          "text": [
            "1\n",
            "4\n",
            "9\n",
            "16\n",
            "25\n"
          ]
        }
      ]
    },
    {
      "cell_type": "markdown",
      "source": [
        "## **9.7 Magic Methods**\n",
        "\n",
        "Magic methods are special methods that allow you to define how objects behave with certain syntax (such as `+`, `-`, `*`, etc.). These methods start and end with double underscores, like `__init__`, `__add__`, etc.\n",
        "\n",
        "### When to Use\n",
        "Use magic methods when you want to customize how objects behave with standard Python syntax."
      ],
      "metadata": {
        "id": "S7E4y5uIsWff"
      }
    },
    {
      "cell_type": "code",
      "source": [
        "class Vector:\n",
        "    def __init__(self, x, y):\n",
        "        self.x = x\n",
        "        self.y = y\n",
        "\n",
        "    def __add__(self, other):\n",
        "        return Vector(self.x + other.x, self.y + other.y)\n",
        "\n",
        "v1 = Vector(1, 2)\n",
        "v2 = Vector(2, 3)\n",
        "v3 = v1 + v2\n",
        "print(v3.x, v3.y)"
      ],
      "metadata": {
        "id": "Jw1F1lwUsg51",
        "colab": {
          "base_uri": "https://localhost:8080/"
        },
        "outputId": "c42bba97-d75e-4063-d751-e305959ee51f"
      },
      "execution_count": 54,
      "outputs": [
        {
          "output_type": "stream",
          "name": "stdout",
          "text": [
            "3 5\n"
          ]
        }
      ]
    },
    {
      "cell_type": "code",
      "source": [
        "class Book:\n",
        "    def __init__(self, pages):\n",
        "        self.pages = pages\n",
        "\n",
        "    def __len__(self):\n",
        "        return self.pages\n",
        "\n",
        "book = Book(100)\n",
        "print(len(book))"
      ],
      "metadata": {
        "id": "FzVLlq3usjMl",
        "colab": {
          "base_uri": "https://localhost:8080/"
        },
        "outputId": "1bd3f2f7-9bfc-4881-a4b8-8238b5760522"
      },
      "execution_count": 56,
      "outputs": [
        {
          "output_type": "stream",
          "name": "stdout",
          "text": [
            "100\n"
          ]
        }
      ]
    }
  ]
}