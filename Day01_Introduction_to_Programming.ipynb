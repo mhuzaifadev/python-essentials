{
  "nbformat": 4,
  "nbformat_minor": 0,
  "metadata": {
    "colab": {
      "provenance": []
    },
    "kernelspec": {
      "name": "python3",
      "display_name": "Python 3"
    },
    "language_info": {
      "name": "python"
    }
  },
  "cells": [
    {
      "cell_type": "markdown",
      "source": [
        "# **Chapter 1: Basic Syntax, Data Types & Decision Control**\n",
        "\n",
        "## **1.1 Syntax and Code Structure**\n",
        "\n",
        "In this chapter, we will explore the basic syntax of Python and understand how to structure our code. Python follows a few fundamental principles for code organization:\n",
        "\n",
        "\n",
        "\n"
      ],
      "metadata": {
        "id": "ova0mf9rBJay"
      }
    },
    {
      "cell_type": "markdown",
      "source": [
        "- **Statements:** In Python, a statement is a line of code that performs a specific action. Each statement typically ends with a newline character."
      ],
      "metadata": {
        "id": "ht0xoloCBWSA"
      }
    },
    {
      "cell_type": "code",
      "execution_count": null,
      "metadata": {
        "colab": {
          "base_uri": "https://localhost:8080/"
        },
        "id": "MbvsU8B8_z8s",
        "outputId": "e290c5fa-1b62-493b-c12b-8be30caa2d5f"
      },
      "outputs": [
        {
          "output_type": "stream",
          "name": "stdout",
          "text": [
            "Hello, World\n"
          ]
        }
      ],
      "source": [
        "print(\"Hello, World\")  # This is a print statement\n",
        "\n"
      ]
    },
    {
      "cell_type": "markdown",
      "source": [
        "* **Indentation:** Python uses indentation (whitespace at the beginning of a line) to indicate blocks of code. It replaces traditional braces or keywords for defining code blocks. Proper indentation is crucial for Python code to be syntactically correct and readable. Typically, four spaces are used for indentation."
      ],
      "metadata": {
        "id": "0sK5P0gGBS-9"
      }
    },
    {
      "cell_type": "code",
      "source": [
        "print(\"Python Essentials\")\n",
        "print(\"Microsoft\")\n",
        "print(\"Google\")"
      ],
      "metadata": {
        "colab": {
          "base_uri": "https://localhost:8080/"
        },
        "id": "vyoV9CU4Bp4H",
        "outputId": "5bde7025-cd41-4d28-a2a7-9ccb9d9cd025"
      },
      "execution_count": null,
      "outputs": [
        {
          "output_type": "stream",
          "name": "stdout",
          "text": [
            "Python Essentials\n",
            "Microsoft\n",
            "Google\n"
          ]
        }
      ]
    },
    {
      "cell_type": "markdown",
      "source": [
        "* **Comments:** Comments in Python are used to add explanatory notes or disable certain lines of code. They are ignored by the interpreter during program execution. Comments start with the `#` symbol and continue until the end of the line."
      ],
      "metadata": {
        "id": "00FzrZb6Bthm"
      }
    },
    {
      "cell_type": "code",
      "source": [
        "# This is a comment\n",
        "\n"
      ],
      "metadata": {
        "colab": {
          "base_uri": "https://localhost:8080/"
        },
        "id": "dxhaZ9Y1B4c6",
        "outputId": "bf0fff85-01ed-427d-b91e-5b4e5dc04a7c"
      },
      "execution_count": null,
      "outputs": [
        {
          "output_type": "stream",
          "name": "stdout",
          "text": [
            "Comment \n"
          ]
        }
      ]
    },
    {
      "cell_type": "markdown",
      "source": [
        "# **1.2 Data Types**\n",
        "\n",
        "Python supports several built-in data types that allow us to store and manipulate different kinds of information. The commonly used data types in Python include:\n",
        "\n",
        "### **Numeric Types:**\n",
        "\n",
        "* **Integer (`int`):** Integers represent whole numbers without decimal points.\n",
        "\n",
        "  For example: `x = 10`\n",
        "\n",
        "* **Floating-Point Number (`float`):** Floats represent numbers with decimal points.\n",
        "\n",
        "  For example: `y = 3.14`\n",
        "\n",
        "* **Complex Number (`complex`):** Complex numbers consist of a real part and an imaginary part.\n",
        "\n",
        "  For example: `z = 2 + 3j`\n",
        "\n",
        "\n",
        "### **Text Type:**\n",
        "\n",
        "* **String (`str`):** Strings represent sequences of characters enclosed in single quotes (`''`) or double quotes (`\"\"`).\n",
        "\n",
        "  For example: name = `\"John\"`\n",
        "\n",
        "* **Boolean Type: Boolean (`bool`):** Booleans represent the truth values True or False. They are often used for making logical decisions or comparisons.\n",
        "\n",
        "  For example: `is_python_fun = True`"
      ],
      "metadata": {
        "id": "Qm5QR3GrB6o_"
      }
    },
    {
      "cell_type": "code",
      "source": [
        "print('True')\n",
        "print(123)\n",
        "print(True)\n",
        "print(\"Hello\")\n",
        "# True"
      ],
      "metadata": {
        "colab": {
          "base_uri": "https://localhost:8080/"
        },
        "id": "h9_kNFLVYp1u",
        "outputId": "5602b1f1-f908-4adc-900e-e6696e651c0b"
      },
      "execution_count": null,
      "outputs": [
        {
          "output_type": "stream",
          "name": "stdout",
          "text": [
            "True\n",
            "123\n",
            "True\n",
            "Hello\n"
          ]
        }
      ]
    },
    {
      "cell_type": "markdown",
      "source": [
        "# **1.3 Variables**\n",
        "\n",
        "Variables are used to store data values in memory. In Python, you can create a variable by assigning a value to it using the assignment operator (`=`). Variables in Python are dynamically typed, meaning you can assign values of different types to the same variable."
      ],
      "metadata": {
        "id": "ZtFu9_qsDMyM"
      }
    },
    {
      "cell_type": "code",
      "source": [
        "message_4 = \"Hello, Python!\"  # Assigning a string to the variable \"message\"\n",
        "count = 10  # Assigning an integer to the variable \"count\"\n",
        "\n"
      ],
      "metadata": {
        "id": "fVuE3xNnDG9t"
      },
      "execution_count": null,
      "outputs": []
    },
    {
      "cell_type": "code",
      "source": [
        "print(count-5)"
      ],
      "metadata": {
        "colab": {
          "base_uri": "https://localhost:8080/"
        },
        "id": "LqixBIf1cLnO",
        "outputId": "2b877bf2-72e7-484e-ae66-b86a39e01b43"
      },
      "execution_count": null,
      "outputs": [
        {
          "output_type": "stream",
          "name": "stdout",
          "text": [
            "5\n"
          ]
        }
      ]
    },
    {
      "cell_type": "code",
      "source": [
        "print(count)"
      ],
      "metadata": {
        "colab": {
          "base_uri": "https://localhost:8080/"
        },
        "id": "zqWw5dXEabv0",
        "outputId": "23c19ebc-6713-411f-bc2d-b114c9b11863"
      },
      "execution_count": null,
      "outputs": [
        {
          "output_type": "stream",
          "name": "stdout",
          "text": [
            "670.89\n"
          ]
        }
      ]
    },
    {
      "cell_type": "markdown",
      "source": [
        "# **1.4 Operators**\n",
        "\n",
        "Python provides various operators to perform different operations on variables and values. Let's discuss some commonly used operators:"
      ],
      "metadata": {
        "id": "e1EzAid8DY7y"
      }
    },
    {
      "cell_type": "markdown",
      "source": [
        "* **Arithmetic Operators:**\n",
        "\n",
        "> .\n",
        "- Addition (`+`)\n",
        "- Subtraction (`-`)\n",
        "- Multiplication (`*`)\n",
        "- Division (`/`)\n",
        "- Modulo (`%`)\n",
        "- Exponentiation (**)\n",
        "- Floor Division (`//`).\n",
        "\n",
        "\n",
        "\n"
      ],
      "metadata": {
        "id": "d8l47Kx3DezB"
      }
    },
    {
      "cell_type": "code",
      "source": [
        "x = 10\n",
        "y = 3\n",
        "addition = x + y  # 13\n",
        "multiplication = x * y  # 30\n",
        "division = x / y  # 3.3333333333333335"
      ],
      "metadata": {
        "id": "7iW8LjxmDqsn"
      },
      "execution_count": null,
      "outputs": []
    },
    {
      "cell_type": "markdown",
      "source": [
        "* **Comparison Operators:**\n",
        "\n",
        "> .\n",
        "- Equal to (`==`)\n",
        "- Not equal to (`!=`)\n",
        "- Greater than (`>`)\n",
        "- Less than (`<`)\n",
        "- Greater than or equal to (`>=`)\n",
        "- Less than or equal to (`<=`)."
      ],
      "metadata": {
        "id": "VyePgp4qEGiI"
      }
    },
    {
      "cell_type": "code",
      "source": [
        "a = 5\n",
        "b = 10\n",
        "is_equal = (a == b)  # False\n",
        "is_greater = (a > b)  # False\n"
      ],
      "metadata": {
        "id": "-d6pC73qEf7a"
      },
      "execution_count": null,
      "outputs": []
    },
    {
      "cell_type": "markdown",
      "source": [
        "* **Logical Operators:**\n",
        "\n",
        "`and`, `or`, `not`: Used to combine or negate logical expressions."
      ],
      "metadata": {
        "id": "oUMw4bQ9Ehtt"
      }
    },
    {
      "cell_type": "code",
      "source": [
        "p = True\n",
        "q = False\n",
        "result = p and q  # False\n"
      ],
      "metadata": {
        "id": "M0eBQUMBEo-F"
      },
      "execution_count": null,
      "outputs": []
    },
    {
      "cell_type": "markdown",
      "source": [
        "# **1.5 Decision Controls**\n",
        "\n",
        "**`if statement:`** The if statement is used to execute a block of code only if a specific condition is true. Optionally, you can include **`elif`** (short for _\"else if\"_ ) and **`else`** clauses to handle multiple conditions."
      ],
      "metadata": {
        "id": "H0XJKSjNFy9v"
      }
    },
    {
      "cell_type": "code",
      "source": [
        "age = 18\n",
        "if age >= 18:\n",
        "    print(\"You are an adult.\")\n",
        "elif age >= 13:\n",
        "    print(\"You are a teenager.\")\n",
        "else:\n",
        "    print(\"You are a child.\")"
      ],
      "metadata": {
        "colab": {
          "base_uri": "https://localhost:8080/"
        },
        "id": "qbLRIDsUGlAy",
        "outputId": "def768b2-033c-42a5-e277-6262d6785937"
      },
      "execution_count": null,
      "outputs": [
        {
          "output_type": "stream",
          "name": "stdout",
          "text": [
            "You are an adult.\n"
          ]
        }
      ]
    },
    {
      "cell_type": "markdown",
      "source": [
        "### **Day 01 Homework**\n",
        "\n",
        "\n",
        "**Question 1: Basic Calculator Program**\n",
        "\n",
        "Write a Python program to create a basic calculator. The program should perform the following operations:\n",
        "\n",
        "> 1. **Addition:** Add two numbers and display the result.\n",
        "2. **Subtraction:** Subtract the second number from the first number and display the result.\n",
        "3. **Multiplication:** Multiply two numbers and display the result.\n",
        "4. **Division:** Divide the first number by the second number and display the result.\n",
        "\n",
        "Your program should prompt the user to enter the two numbers and the operation they want to perform (using appropriate prompts and messages). After displaying the result, the program should ask the user if they want to perform another calculation. If the user enters `'y'` or `'Y'`, the program should continue to prompt for input and perform calculations. If the user enters `'n'` or `'N'`, the program should exit.\n",
        "\n",
        "> Hint: Use the `input()` function to get user input and the appropriate arithmetic operators to perform calculations.\n",
        "\n",
        "\n",
        "\n",
        "---\n",
        "\n"
      ],
      "metadata": {
        "id": "e7O5s-LPHEn8"
      }
    },
    {
      "cell_type": "markdown",
      "source": [
        "**Question 2: Conditional Statement Exercise**\n",
        "\n",
        "Write a Python program that prompts the user to enter an integer. The program should check the following conditions and display the corresponding messages:\n",
        "\n",
        "> - If the entered number is positive, display \"The number is positive.\"\n",
        "- If the entered number is negative, display \"The number is negative.\"\n",
        "- If the entered number is zero, display \"The number is zero.\"\n",
        "\n",
        "Additionally, if the number is greater than 100, display `\"The number is greater than 100.\"` If the number is less than -100, display `\"The number is less than -100.\"`\n",
        "\n",
        "Make sure to handle both positive and negative numbers correctly using `if-else` and `elif` statements.\n",
        "\n",
        "> Hint: Use the `int()` function to convert the user input into an integer for comparison.\n",
        "\n"
      ],
      "metadata": {
        "id": "B2cj2ND7Hjmm"
      }
    },
    {
      "cell_type": "markdown",
      "source": [
        "\n",
        "***Note: Remember to test your programs with different inputs to ensure they work correctly.***\n",
        "\n",
        "***Good luck with your homework!***"
      ],
      "metadata": {
        "id": "ZvWVgsjZIEZ4"
      }
    }
  ]
}