{
  "nbformat": 4,
  "nbformat_minor": 0,
  "metadata": {
    "colab": {
      "provenance": []
    },
    "kernelspec": {
      "name": "python3",
      "display_name": "Python 3"
    },
    "language_info": {
      "name": "python"
    }
  },
  "cells": [
    {
      "cell_type": "markdown",
      "source": [
        "# **Chapter 05: Built-in Data Structures**\n",
        "\n",
        "In this chapter we will cover the fundamental data structures in Python, including **Lists, Tuples, Sets, and Dictionaries.** Each data structure is introduced with a clear definition and properties. This notebook provides detailed explanations and code snippets demonstrating how to create, manipulate, and access elements in each data structure. With real-world examples and expected outputs, it helps learners grasp the concepts and practical applications of these data structures in Python programming. **This topic is essentially a last topic of Fundamentals in Programming.**\n",
        "\n",
        "<br>\n",
        "<hr>\n",
        "<br>\n",
        "\n",
        "## **Lists**\n",
        "\n",
        "**5.1 Introduction to Lists**\n",
        "\n",
        "Lists are one of the most commonly used data structures in Python. They are **ordered, mutable, and can contain elements of different data types.**\n",
        "\n",
        "**Creating a List**\n",
        "\n",
        "You can create a list by enclosing elements within square brackets `[ ]`."
      ],
      "metadata": {
        "id": "TSF5N3D0DD0X"
      }
    },
    {
      "cell_type": "code",
      "execution_count": 1,
      "metadata": {
        "id": "Ca3oshxHC0lg"
      },
      "outputs": [],
      "source": [
        "# Empty List\n",
        "empty_list = []\n",
        "\n",
        "# List with elements\n",
        "numbers = [1, 2, 3, 4, 5]\n",
        "names = ['Alice', 'Bob', 'Charlie']\n",
        "mixed_list = [1, 'apple', True]\n"
      ]
    },
    {
      "cell_type": "markdown",
      "source": [
        "**Accessing Elements**\n",
        "\n",
        "You can access individual elements of a list using indexing. Indexing starts from 0 for the first element."
      ],
      "metadata": {
        "id": "s07qJnQBDVHE"
      }
    },
    {
      "cell_type": "code",
      "source": [
        "fruits = ['apple', 'banana', 'orange', 'grape','strawberry']\n",
        "\n",
        "# Accessing individual elements\n",
        "print(fruits[0])\n",
        "print(fruits[2:])"
      ],
      "metadata": {
        "id": "yo7PNoD1DgPE",
        "colab": {
          "base_uri": "https://localhost:8080/"
        },
        "outputId": "51045006-4da8-4555-c941-ee8f318723b4"
      },
      "execution_count": 13,
      "outputs": [
        {
          "output_type": "stream",
          "name": "stdout",
          "text": [
            "apple\n",
            "['orange', 'grape', 'strawberry']\n"
          ]
        }
      ]
    },
    {
      "cell_type": "markdown",
      "source": [
        "**List Operations**"
      ],
      "metadata": {
        "id": "wKWNVF_5DiA1"
      }
    },
    {
      "cell_type": "code",
      "source": [
        "# Length of a list\n",
        "print(len(fruits))\n",
        "\n",
        "# Adding elements to the end of the list\n",
        "fruits.append('pear')\n",
        "print(fruits)\n",
        "\n",
        "# Inserting an element at a specific index\n",
        "fruits.insert(2, 'kiwi')\n",
        "print(fruits)\n",
        "\n",
        "# Removing an element by value\n",
        "fruits.remove('banana')\n",
        "print(fruits)\n",
        "\n",
        "# # Removing an element by index\n",
        "removed_element = fruits.pop(2)\n",
        "print(fruits)\n",
        "print(removed_element)\n",
        "\n",
        "# # Slicing a list\n",
        "print(fruits[1:3])\n"
      ],
      "metadata": {
        "id": "8dI2esNmDkVw",
        "colab": {
          "base_uri": "https://localhost:8080/"
        },
        "outputId": "90dab676-9db7-4c85-ccce-24b8605af48f"
      },
      "execution_count": 14,
      "outputs": [
        {
          "output_type": "stream",
          "name": "stdout",
          "text": [
            "5\n",
            "['apple', 'banana', 'orange', 'grape', 'strawberry', 'pear']\n",
            "['apple', 'banana', 'kiwi', 'orange', 'grape', 'strawberry', 'pear']\n",
            "['apple', 'kiwi', 'orange', 'grape', 'strawberry', 'pear']\n",
            "['apple', 'kiwi', 'grape', 'strawberry', 'pear']\n",
            "orange\n",
            "['kiwi', 'grape']\n"
          ]
        }
      ]
    },
    {
      "cell_type": "markdown",
      "source": [
        "### **5.2 Tuples**\n",
        "\n",
        "**Introduction to Tuples**\n",
        "\n",
        "Tuples are similar to lists, but they are immutable, meaning their elements cannot be changed after creation.\n",
        "\n",
        "**Creating a Tuple**\n",
        "\n",
        "You can create a tuple by enclosing elements within parentheses `()`."
      ],
      "metadata": {
        "id": "wKR4jP6fDrXx"
      }
    },
    {
      "cell_type": "code",
      "source": [
        "# Empty Tuple\n",
        "empty_tuple = ()\n",
        "\n",
        "# Tuple with elements\n",
        "coordinates = (10, 20)\n",
        "colors = ('red', 'green', 'blue')\n"
      ],
      "metadata": {
        "id": "PHK82rqSD0um"
      },
      "execution_count": 15,
      "outputs": []
    },
    {
      "cell_type": "markdown",
      "source": [
        "**Accessing Elements**\n",
        "\n",
        "Since tuples are indexed, you can access elements using indexing similar to lists."
      ],
      "metadata": {
        "id": "X--GHFekD2ma"
      }
    },
    {
      "cell_type": "code",
      "source": [
        "point = (5, 10)\n",
        "x = point[0]\n",
        "y = point[1]\n",
        "\n",
        "print(x)\n",
        "print(y)\n"
      ],
      "metadata": {
        "id": "IPFgC9P-D49v",
        "colab": {
          "base_uri": "https://localhost:8080/"
        },
        "outputId": "c7f8c5bc-0779-4780-8b5c-e931d52f2f39"
      },
      "execution_count": 16,
      "outputs": [
        {
          "output_type": "stream",
          "name": "stdout",
          "text": [
            "5\n",
            "10\n"
          ]
        }
      ]
    },
    {
      "cell_type": "markdown",
      "source": [
        "**Tuple Operations**"
      ],
      "metadata": {
        "id": "diFIXHU_D6rJ"
      }
    },
    {
      "cell_type": "code",
      "source": [
        "# Length of a tuple\n",
        "print(len(colors))\n",
        "\n",
        "# Concatenating tuples\n",
        "combined_tuple = coordinates + colors\n",
        "print(combined_tuple)\n"
      ],
      "metadata": {
        "id": "_wU8N7UiD8P3",
        "colab": {
          "base_uri": "https://localhost:8080/"
        },
        "outputId": "158c3bfb-867c-4701-9f2f-c61442491dac"
      },
      "execution_count": 23,
      "outputs": [
        {
          "output_type": "stream",
          "name": "stdout",
          "text": [
            "3\n",
            "(10, 20, 'Red', 'Green', 'Blue')\n"
          ]
        }
      ]
    },
    {
      "cell_type": "markdown",
      "source": [
        "### **Sets**\n",
        "\n",
        "**Introduction to Sets**\n",
        "\n",
        "Sets are unordered collections of unique elements. They do not allow duplicate values.\n",
        "\n",
        "**Creating a Set**\n",
        "\n",
        "You can create a set using curly braces `{}` or the `set()` function."
      ],
      "metadata": {
        "id": "ciRft5HtD9ED"
      }
    },
    {
      "cell_type": "code",
      "source": [
        "# Empty Set\n",
        "empty_set = set()\n",
        "\n",
        "# Set with elements\n",
        "prime_numbers = {2, 3, 5, 7, 11}\n",
        "colors = set(['red', 'green', 'blue','blue'])\n"
      ],
      "metadata": {
        "id": "6dEPGSeIEJdz"
      },
      "execution_count": 39,
      "outputs": []
    },
    {
      "cell_type": "code",
      "source": [
        "# A fun by removing duplicate values\n",
        "\n",
        "lang = [\"English\", \"Spanish\",\"Korean\",\"Urdu\",\"Korean\",\"English\"]\n",
        "list(set(lang))"
      ],
      "metadata": {
        "colab": {
          "base_uri": "https://localhost:8080/"
        },
        "id": "9gBRRcH7199C",
        "outputId": "2b78295e-5099-443e-d780-99ff0a109063"
      },
      "execution_count": 40,
      "outputs": [
        {
          "output_type": "execute_result",
          "data": {
            "text/plain": [
              "['Urdu', 'Korean', 'English', 'Spanish']"
            ]
          },
          "metadata": {},
          "execution_count": 40
        }
      ]
    },
    {
      "cell_type": "markdown",
      "source": [
        "**Set Operations**"
      ],
      "metadata": {
        "id": "ZoLtg50HELP1"
      }
    },
    {
      "cell_type": "code",
      "source": [
        "# Adding elements to a set\n",
        "colors.add('yellow')\n",
        "print(colors)\n",
        "\n",
        "# Removing an element from a set\n",
        "colors.remove('green')\n",
        "print(colors)\n",
        "\n",
        "# Checking membership in a set\n",
        "print('red' in colors)\n",
        "\n",
        "# Set union\n",
        "set1 = {1, 2, 3}\n",
        "set2 = {3, 4, 5}\n",
        "union_set = set1 | set2\n",
        "print(union_set)\n",
        "\n",
        "# # Set intersection\n",
        "intersection_set = set1 & set2\n",
        "print(intersection_set)\n"
      ],
      "metadata": {
        "id": "OIB6evTCEM-h",
        "colab": {
          "base_uri": "https://localhost:8080/"
        },
        "outputId": "1b65c1da-9d7b-4796-b21c-7abac58fc4b8"
      },
      "execution_count": 41,
      "outputs": [
        {
          "output_type": "stream",
          "name": "stdout",
          "text": [
            "{'blue', 'red', 'green', 'yellow'}\n",
            "{'blue', 'red', 'yellow'}\n",
            "True\n",
            "{1, 2, 3, 4, 5}\n",
            "{3}\n"
          ]
        }
      ]
    },
    {
      "cell_type": "markdown",
      "source": [
        "### **Dictionaries**\n",
        "\n",
        "**Introduction to Dictionaries**\n",
        "\n",
        "Dictionaries are collections of key-value pairs. They are unordered, mutable, and allow fast access to values based on their keys.\n",
        "\n",
        "**Creating a Dictionary**\n",
        "\n",
        "You can create a dictionary using curly braces {} and colons : to separate keys and values."
      ],
      "metadata": {
        "id": "TNxWp3ToEOwT"
      }
    },
    {
      "cell_type": "code",
      "source": [
        "# Empty Dictionary\n",
        "empty_dict = {}\n",
        "\n",
        "# Dictionary with elements\n",
        "student = {\n",
        "    'name': 'Alice',\n",
        "    'age': 20,\n",
        "    'major': 'Computer Science'\n",
        "}\n",
        "\n",
        "# Non-structured / JSON / MongoDB / NoSQL Databse"
      ],
      "metadata": {
        "id": "FfMxXbO6ET_N"
      },
      "execution_count": 56,
      "outputs": []
    },
    {
      "cell_type": "markdown",
      "source": [
        "**Accessing Elements**\n",
        "\n",
        "You can access values from a dictionary using their keys."
      ],
      "metadata": {
        "id": "YfYG2zavEWSB"
      }
    },
    {
      "cell_type": "code",
      "source": [
        "print(student['name'])\n",
        "print(student['age'])\n",
        "print(student['major'])\n"
      ],
      "metadata": {
        "id": "Eh5j-Z4pEZHl",
        "colab": {
          "base_uri": "https://localhost:8080/"
        },
        "outputId": "0045c029-7f51-4f6f-8853-ff1974153af1"
      },
      "execution_count": 57,
      "outputs": [
        {
          "output_type": "stream",
          "name": "stdout",
          "text": [
            "Alice\n",
            "20\n",
            "Computer Science\n"
          ]
        }
      ]
    },
    {
      "cell_type": "markdown",
      "source": [
        "**Dictionary Operations**"
      ],
      "metadata": {
        "id": "Gla61WDjEbDa"
      }
    },
    {
      "cell_type": "code",
      "source": [
        "# Adding a new key-value pair\n",
        "student['university'] = 'XYZ University'\n",
        "print(student)\n",
        "\n",
        "# Removing a key-value pair\n",
        "del student['major']\n",
        "print(student)\n",
        "\n",
        "# # Checking if a key exists in the dictionary\n",
        "print('age' in student)\n"
      ],
      "metadata": {
        "id": "vRmq9HziEcn2",
        "colab": {
          "base_uri": "https://localhost:8080/"
        },
        "outputId": "1a20954f-6fe6-4229-866d-3fe775ffa153"
      },
      "execution_count": 58,
      "outputs": [
        {
          "output_type": "stream",
          "name": "stdout",
          "text": [
            "{'name': 'Alice', 'age': 20, 'major': 'Computer Science', 'university': 'XYZ University'}\n",
            "{'name': 'Alice', 'age': 20, 'university': 'XYZ University'}\n",
            "True\n"
          ]
        }
      ]
    },
    {
      "cell_type": "markdown",
      "source": [
        "<br>\n",
        "\n",
        "## **Tabular comparison of the four data structures: Lists, Tuples, Sets, and Dictionaries.**\n",
        "\n",
        "<br>\n",
        "\n",
        "| Data Structure | Order | Mutability | Duplicates | Access by Index | Key-Value Pairs |\n",
        "|----------------|-------|------------|------------|-----------------|-----------------|\n",
        "| Lists          | Ordered | Mutable   | Allowed    | Yes            | No              |\n",
        "| Tuples         | Ordered | Immutable | Allowed    | Yes            | No              |\n",
        "| Sets           | Unordered | Mutable | Not Allowed | No              | No              |\n",
        "| Dictionaries   | Unordered (Ordered after Python 3.7)| Mutable | Not Allowed | No   (Yes after 3.7)           | Yes             |\n",
        "\n",
        "**Explanation:**\n",
        "\n",
        "1. **Order:** Lists and Tuples are ordered data structures, which means the elements have a specific order, and you can access elements using indexing. Sets and Dictionaries, on the other hand, are unordered, and there is no specific order in which elements are stored.\n",
        "\n",
        "2. **Mutability:** Lists, Sets, and Dictionaries are mutable, which means you can change, add, or remove elements after creation. Tuples, on the other hand, are immutable, and their elements cannot be modified after creation.\n",
        "\n",
        "3. **Duplicates:** Lists allow duplicate elements, so you can have the same value multiple times in a list. Sets do not allow duplicates; each element in a set must be unique. Tuples and Dictionaries can have duplicate values.\n",
        "\n",
        "4. **Access by Index:** Lists and Tuples allow access to elements using indexing, e.g., `list[0]` or `tuple[1]`. Sets and Dictionaries do not support access by index, as they are unordered data structures.\n",
        "\n",
        "5. **Key-Value Pairs:** Dictionaries are the only data structure that supports key-value pairs. They store data in the form of `{key: value}` pairs, allowing fast access to values based on their keys.\n"
      ],
      "metadata": {
        "id": "9OKd-drnFTu4"
      }
    },
    {
      "cell_type": "markdown",
      "source": [
        "## **Homework Day 05:**\n",
        "\n",
        "**Question 1: List Manipulation**\n",
        "You have been given a list of integers `numbers = [1, 2, 3, 4, 5, 6, 7, 8, 9]`. Write a Python program to perform the following operations:\n",
        "\n",
        "* Append the number `10` to the end of the list.\n",
        "* Insert the number `0` at the beginning of the list.\n",
        "* Remove the number `5` from the list.\n",
        "* Print the length of the modified list.\n",
        "\n",
        "**Expected Output:**\n",
        "```\n",
        "Modified List: [0, 1, 2, 3, 4, 6, 7, 8, 9, 10]\n",
        "Length of the modified list: 10\n",
        "```\n",
        "------\n",
        "\n",
        "**Question 2: Tuple Swapping**\n",
        "Given two tuples `tuple1 = (10, 20)` and `tuple2 = (30, 40)`, write a Python program to swap their values and print the updated tuples.\n",
        "\n",
        "**Expected Output:**\n",
        "```\n",
        "Original tuple1: (10, 20)\n",
        "Original tuple2: (30, 40)\n",
        "\n",
        "After swapping:\n",
        "Updated tuple1: (30, 40)\n",
        "Updated tuple2: (10, 20)\n",
        "```\n",
        "-----\n",
        "\n",
        "**Question 3: Set Operations**\n",
        "You are given two sets:\n",
        "```python\n",
        "set1 = {1, 2, 3, 4, 5}\n",
        "set2 = {3, 4, 5, 6, 7}\n",
        "```\n",
        "Write a Python program to perform the following operations:\n",
        "\n",
        "* Find the union of `set1` and `set2`.\n",
        "* Find the intersection of `set1` and `set2`.\n",
        "* Find the difference between `set1` and `set2`.\n",
        "* Check if `set1` is a subset of `set2`.\n",
        "\n",
        "**Expected Output:**\n",
        "```\n",
        "Union of set1 and set2: {1, 2, 3, 4, 5, 6, 7}\n",
        "Intersection of set1 and set2: {3, 4, 5}\n",
        "Difference between set1 and set2: {1, 2}\n",
        "Is set1 a subset of set2? False\n",
        "```\n",
        "----\n",
        "\n",
        "**Question 4: Dictionary Manipulation**\n",
        "You have been given a dictionary representing a student's details:\n",
        "```python\n",
        "student = {\n",
        "    'name': 'John Doe',\n",
        "    'age': 21,\n",
        "    'major': 'Physics',\n",
        "    'university': 'XYZ University'\n",
        "}\n",
        "```\n",
        "Write a Python program to perform the following operations:\n",
        "\n",
        "* Add a new key-value pair to the dictionary: `'email': 'john.doe@example.com'`.\n",
        "* Remove the key `'major'` from the dictionary.\n",
        "* Update the student's age to `22`.\n",
        "* Check if the key `'phone'` exists in the dictionary.\n",
        "\n",
        "**Expected Output:**\n",
        "```\n",
        "Updated student dictionary:\n",
        "{\n",
        "    'name': 'John Doe',\n",
        "    'age': 22,\n",
        "    'university': 'XYZ University',\n",
        "    'email': 'john.doe@example.com'\n",
        "}\n",
        "\n",
        "Is 'phone' present in the dictionary? False\n",
        "```\n",
        "\n",
        "**Hints:**\n",
        "- For Question 1, use list methods like `append`, `insert`, and `remove`.\n",
        "- For Question 2, use tuple unpacking and temporary variables for swapping.\n",
        "- For Question 3, use set operations like `union`, `intersection`, and `difference`.\n",
        "- For Question 4, use dictionary methods like `update`, `pop`, and the `in` operator for checking existence."
      ],
      "metadata": {
        "id": "gC8qE94xE6Se"
      }
    }
  ]
}