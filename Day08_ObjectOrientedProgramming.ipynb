{
  "nbformat": 4,
  "nbformat_minor": 0,
  "metadata": {
    "colab": {
      "provenance": []
    },
    "kernelspec": {
      "name": "python3",
      "display_name": "Python 3"
    },
    "language_info": {
      "name": "python"
    }
  },
  "cells": [
    {
      "cell_type": "markdown",
      "source": [
        "# **Chapter: 8. Object-Oriented Programming in Python**\n",
        "\n",
        "Object-oriented programming (OOP) is a style of programming characterized by the identification of classes of objects closely linked with the methods (functions) with which they are associated. It also includes ideas of inheritance of attributes and methods.\n",
        "\n",
        "\n",
        "## **8.1. Basics of OOP**\n",
        "\n",
        "### **8.1.1. Classes and Objects**\n",
        "\n",
        "- **Class**: A blueprint for creating objects.\n",
        "- **Object**: An instance of a class."
      ],
      "metadata": {
        "id": "8_-BhyAdNolJ"
      }
    },
    {
      "cell_type": "code",
      "execution_count": null,
      "metadata": {
        "id": "pwM0jelhCdp_"
      },
      "outputs": [],
      "source": [
        "class Animal:\n",
        "    pass\n",
        "\n",
        "# Creating an instance of the Animal class\n",
        "animal_instance = Animal()"
      ]
    },
    {
      "cell_type": "markdown",
      "source": [
        "### **8.1.2. Attributes and Methods**\n",
        "\n",
        "Attributes are variables that belong to the class, while methods are functions that belong to the class.\n",
        "\n",
        "##### **Attributes**:\n"
      ],
      "metadata": {
        "id": "8u0MdvY2N0f3"
      }
    },
    {
      "cell_type": "code",
      "source": [
        "class Animal:\n",
        "    # Class attribute\n",
        "    global species\n",
        "    species = \"Mammal\"\n",
        "\n",
        "    # Initializer / Instance attributes / Constructor\n",
        "    def __init__(self, name, age):\n",
        "        self.name = name\n",
        "        self.age = age\n",
        "        self.species = species\n",
        "\n",
        "    def bird_p(self, name, age, species):\n",
        "        print(name, age, species)\n",
        "\n",
        "    def properties(self):\n",
        "      return self.name, self.age\n"
      ],
      "metadata": {
        "id": "_NCRBRtrN9PX"
      },
      "execution_count": null,
      "outputs": []
    },
    {
      "cell_type": "code",
      "source": [
        "# Creating a new Animal instance\n",
        "elephant = Animal(\"Dumbo\", 10)\n",
        "print(elephant.name)\n",
        "print(elephant.age)\n",
        "print(elephant.species)"
      ],
      "metadata": {
        "id": "Q5mTI8clOAEB",
        "colab": {
          "base_uri": "https://localhost:8080/"
        },
        "outputId": "0a1f2ed6-da6d-46a0-a5a5-4ffbab0d895a"
      },
      "execution_count": null,
      "outputs": [
        {
          "output_type": "stream",
          "name": "stdout",
          "text": [
            "Dumbo\n",
            "10\n",
            "Mammal\n"
          ]
        }
      ]
    },
    {
      "cell_type": "code",
      "source": [
        "print(elephant.name)\n",
        "print(elephant.age)\n",
        "print(elephant.species)"
      ],
      "metadata": {
        "colab": {
          "base_uri": "https://localhost:8080/"
        },
        "id": "B7P0I88tz5lo",
        "outputId": "feef0939-afda-4aef-ed98-f8e2e74752c1"
      },
      "execution_count": null,
      "outputs": [
        {
          "output_type": "stream",
          "name": "stdout",
          "text": [
            "Dumbo\n",
            "10\n",
            "Mammal\n"
          ]
        }
      ]
    },
    {
      "cell_type": "code",
      "source": [
        "bird = Animal(\"Sparrow\",1)\n",
        "bird.bird_p(\"Chicken\",2,\"Birds\")\n",
        "# print(bird.age)\n",
        "# print(bird.name)\n",
        "# bird.properties()\n"
      ],
      "metadata": {
        "colab": {
          "base_uri": "https://localhost:8080/"
        },
        "id": "ABDx6eazy7ux",
        "outputId": "c8fa4435-1724-419e-e261-d161e3c4cad0"
      },
      "execution_count": null,
      "outputs": [
        {
          "output_type": "stream",
          "name": "stdout",
          "text": [
            "Chicken 2 Birds\n"
          ]
        }
      ]
    },
    {
      "cell_type": "code",
      "source": [
        "bird.properties()"
      ],
      "metadata": {
        "colab": {
          "base_uri": "https://localhost:8080/"
        },
        "id": "A_t0jkGN0VZn",
        "outputId": "2b9a8aa2-9310-4f80-c998-969cf0dba1c5"
      },
      "execution_count": null,
      "outputs": [
        {
          "output_type": "execute_result",
          "data": {
            "text/plain": [
              "('Sparrow', 1)"
            ]
          },
          "metadata": {},
          "execution_count": 35
        }
      ]
    },
    {
      "cell_type": "markdown",
      "source": [
        "##### **Methods**:"
      ],
      "metadata": {
        "id": "1hFBiZxWOETL"
      }
    },
    {
      "cell_type": "code",
      "source": [
        "class Animal:\n",
        "    def __init__(self, name, sound):\n",
        "        self.name = name\n",
        "        self.sound = sound\n",
        "\n",
        "    # Method to make the animal sound\n",
        "    def make_sound(self):\n",
        "        return f\"{self.name} says {self.sound}!\"\n",
        "\n",
        "cat = Animal(\"Whiskers\", \"Meow\")\n",
        "lion = Animal(\"Jack\",\"Roar\")\n",
        "wolf = Animal(\"Rocky\", \"Wooooo\")\n"
      ],
      "metadata": {
        "id": "bC9_atCSOEz8"
      },
      "execution_count": null,
      "outputs": []
    },
    {
      "cell_type": "code",
      "source": [
        "print(cat.make_sound())\n",
        "print(lion.make_sound())\n",
        "print(wolf.make_sound())"
      ],
      "metadata": {
        "colab": {
          "base_uri": "https://localhost:8080/"
        },
        "id": "A75Ek1mq1EI7",
        "outputId": "bde6594f-320e-49fe-d62a-5dce93183055"
      },
      "execution_count": null,
      "outputs": [
        {
          "output_type": "stream",
          "name": "stdout",
          "text": [
            "Whiskers says Meow!\n",
            "Jack says Roar!\n",
            "Rocky says Wooooo!\n"
          ]
        }
      ]
    },
    {
      "cell_type": "markdown",
      "source": [
        "## **8.2. OOP Principles**\n",
        "\n",
        "### **8.2.1. Encapsulation**\n",
        "\n",
        "Encapsulation is the practice of keeping the attributes and methods of a class private so they are not accessible from outside the class.\n",
        "\n",
        "#### **Private Attributes and Methods**:\n"
      ],
      "metadata": {
        "id": "KjrnjwM5OL9k"
      }
    },
    {
      "cell_type": "code",
      "source": [
        "class Computer:\n",
        "    def __init__(self):\n",
        "        self._maxprice = 900  # protected attribute\n",
        "\n",
        "    def sell(self):\n",
        "        print(f\"Selling Price: {self._maxprice}\")\n",
        "\n",
        "    # Using a private method\n",
        "    def set_price(self, price):\n",
        "        self._maxprice = price\n"
      ],
      "metadata": {
        "id": "7cQYN8-ZOSao"
      },
      "execution_count": null,
      "outputs": []
    },
    {
      "cell_type": "code",
      "source": [
        "c = Computer()\n",
        "c.sell()\n",
        "\n",
        "# Changing the price\n",
        "# This is conventionally not recommended due to the single underscore\n",
        "c._maxprice = 1000\n",
        "c.sell()\n",
        "\n",
        "# Using a protected method\n",
        "c.set_price(1200)\n",
        "c.sell()"
      ],
      "metadata": {
        "id": "EDR4lgmjOaMa",
        "colab": {
          "base_uri": "https://localhost:8080/"
        },
        "outputId": "22979008-e178-4f5d-f9c8-e4789b0c6170"
      },
      "execution_count": null,
      "outputs": [
        {
          "output_type": "stream",
          "name": "stdout",
          "text": [
            "Selling Price: 900\n",
            "Selling Price: 1000\n",
            "Selling Price: 1200\n"
          ]
        }
      ]
    },
    {
      "cell_type": "code",
      "source": [
        "class Rocket:\n",
        "  def launch(self):\n",
        "    print(\"launching\")\n",
        "    # self._combustengine()\n",
        "\n",
        "  def _combustengine(self):\n",
        "    print(\"firing up the engines\")\n",
        "\n",
        "class Launchpad:\n",
        "  def go_space(self):\n",
        "    falcon = Rocket()\n",
        "    falcon.launch()\n",
        "    falcon._combustengine()\n",
        "\n",
        "\n",
        "nasa = Launchpad()\n",
        "nasa.go_space()"
      ],
      "metadata": {
        "colab": {
          "base_uri": "https://localhost:8080/"
        },
        "id": "Xf_ULDMr24nM",
        "outputId": "36525a07-b040-4104-db1d-68bd44697775"
      },
      "execution_count": null,
      "outputs": [
        {
          "output_type": "stream",
          "name": "stdout",
          "text": [
            "launching\n",
            "firing up the engines\n"
          ]
        }
      ]
    },
    {
      "cell_type": "markdown",
      "source": [
        "### **8.2.2. Inheritance**\n",
        "\n",
        "Inheritance allows a class to inherit attributes and methods from another class.\n",
        "\n",
        "##### **Base Class and Derived Class**:"
      ],
      "metadata": {
        "id": "8D6U0QruOt-A"
      }
    },
    {
      "cell_type": "code",
      "source": [
        "# Base class / Parent class\n",
        "class Bird:\n",
        "    def __init__(self):\n",
        "        print(\"Bird is not ready\")\n",
        "\n",
        "    def who_am_i(self):\n",
        "        print(\"I am a bird\")\n",
        "\n",
        "    def color(self):\n",
        "      print(\"I am colorful\")\n",
        "\n",
        "# Derived class / Child class\n",
        "class Sparrow(Bird):\n",
        "    def __init__(self):\n",
        "        # call super() function\n",
        "        super().__init__()\n",
        "        print(\"Sparrow is ready\")\n",
        "\n",
        "    def who_am_i(self):\n",
        "        print(\"I am a sparrow\")"
      ],
      "metadata": {
        "id": "wxrAOiDjO3MH"
      },
      "execution_count": null,
      "outputs": []
    },
    {
      "cell_type": "code",
      "source": [
        "sparrow = Sparrow()\n",
        "sparrow.who_am_i()\n",
        "sparrow.color()"
      ],
      "metadata": {
        "id": "rkQ2qZzrO5gF",
        "colab": {
          "base_uri": "https://localhost:8080/"
        },
        "outputId": "d1c71623-169d-492c-a77d-4ebdee859514"
      },
      "execution_count": null,
      "outputs": [
        {
          "output_type": "stream",
          "name": "stdout",
          "text": [
            "Bird is not ready\n",
            "Sparrow is ready\n",
            "I am a sparrow\n",
            "I am colorful\n"
          ]
        }
      ]
    },
    {
      "cell_type": "markdown",
      "source": [
        "\n",
        "### **8.2.3. Polymorphism**\n",
        "\n",
        "Polymorphism allows objects to be treated as instances of their parent class rather than their actual type.\n",
        "\n",
        "### **Using Polymorphism**:"
      ],
      "metadata": {
        "id": "NcM2Skj1O8oT"
      }
    },
    {
      "cell_type": "code",
      "source": [
        "class Shark:\n",
        "    def swim(self):\n",
        "        return \"The shark is swimming\"\n",
        "\n",
        "    def bones(self):\n",
        "        return \"The shark has cartilage\"\n",
        "\n",
        "class Clownfish:\n",
        "    def swim(self):\n",
        "        return \"The clownfish is swimming\"\n",
        "\n",
        "    def bones(self):\n",
        "        return \"The clownfish has bones\"\n",
        "\n",
        "def fish_swimming_test(fish):\n",
        "    return fish.swim()\n",
        "\n",
        "shark = Shark()\n",
        "clownfish = Clownfish()\n",
        "\n",
        "print(fish_swimming_test(shark))\n",
        "print(fish_swimming_test(clownfish))\n",
        "\n",
        "def type_of_bones(fish):\n",
        "  return fish.bones()\n",
        "\n",
        "\n",
        "print(type_of_bones(shark))\n",
        "print(type_of_bones(clownfish))"
      ],
      "metadata": {
        "id": "CnLv2SvZPByB",
        "colab": {
          "base_uri": "https://localhost:8080/"
        },
        "outputId": "e549f5c8-8bf0-4b38-aa4b-9b7e3cfe5162"
      },
      "execution_count": null,
      "outputs": [
        {
          "output_type": "stream",
          "name": "stdout",
          "text": [
            "The shark is swimming\n",
            "The clownfish is swimming\n",
            "The shark has cartilage\n",
            "The clownfish has bones\n"
          ]
        }
      ]
    },
    {
      "cell_type": "markdown",
      "source": [
        "### **8.2.4. Abstraction**\n",
        "\n",
        "Abstraction refers to providing only the essential details and hiding the background details.\n",
        "\n",
        "### **Using Abstract Base Class (ABC)**:"
      ],
      "metadata": {
        "id": "qqBltg8HPIpP"
      }
    },
    {
      "cell_type": "code",
      "source": [
        "from abc import ABC, abstractmethod\n",
        "\n",
        "class Shape(ABC):\n",
        "    @abstractmethod\n",
        "    def area(self):\n",
        "        pass\n",
        "\n",
        "    @abstractmethod\n",
        "    def perimeter(self):\n",
        "        pass\n",
        "\n",
        "class Square(Shape):\n",
        "    def __init__(self, side):\n",
        "        self.side = side\n",
        "\n",
        "    def area(self):\n",
        "        return self.side * self.side\n",
        "\n",
        "    def perimeter(self):\n",
        "        return 4 * self.side\n",
        "\n",
        "square = Square(5)\n",
        "print(square.area())\n",
        "print(square.perimeter())\n"
      ],
      "metadata": {
        "id": "ZkOEvVAHPMIm",
        "colab": {
          "base_uri": "https://localhost:8080/"
        },
        "outputId": "50189897-665b-4658-a598-08c10ac3d264"
      },
      "execution_count": null,
      "outputs": [
        {
          "output_type": "stream",
          "name": "stdout",
          "text": [
            "25\n",
            "20\n"
          ]
        }
      ]
    }
  ]
}