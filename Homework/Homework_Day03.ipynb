{
  "nbformat": 4,
  "nbformat_minor": 0,
  "metadata": {
    "colab": {
      "provenance": []
    },
    "kernelspec": {
      "name": "python3",
      "display_name": "Python 3"
    },
    "language_info": {
      "name": "python"
    }
  },
  "cells": [
    {
      "cell_type": "markdown",
      "source": [
        "## **Day 3 Homework**\n",
        "\n",
        "**Question 1: Functions**\n",
        "\n",
        "Write a function called **`calculate_area`** that calculates the area of a rectangle. The function should take two parameters: **length** and **width**, which represent the length and width of the rectangle respectively. The function should return the calculated area.\n",
        "\n",
        "Use the formula `area = length * width`.\n",
        "\n",
        "**Expected Usage:**\n",
        "\n",
        "```python\n",
        "area = calculate_area(5, 3)\n",
        "print(\"Area:\", area)  # Output: Area: 15\n",
        "```\n",
        "___\n",
        "\n",
        "\n"
      ],
      "metadata": {
        "id": "YcQ9nblPmyqH"
      }
    },
    {
      "cell_type": "code",
      "execution_count": 1,
      "metadata": {
        "id": "8jbyL7JFmuOj"
      },
      "outputs": [],
      "source": [
        "def calculate_area(length, width):\n",
        "  area = length * width\n",
        "  return area"
      ]
    },
    {
      "cell_type": "code",
      "source": [
        "area = calculate_area(5, 3)\n",
        "print(\"Area:\", area)\n"
      ],
      "metadata": {
        "colab": {
          "base_uri": "https://localhost:8080/"
        },
        "id": "BjkpLQwgnnHX",
        "outputId": "e24f8dfa-bec3-406a-9651-130b829e831f"
      },
      "execution_count": 4,
      "outputs": [
        {
          "output_type": "stream",
          "name": "stdout",
          "text": [
            "Area: 15\n"
          ]
        }
      ]
    },
    {
      "cell_type": "markdown",
      "source": [
        "**Question 2: Recursion**\n",
        "\n",
        "Write a recursive function called `recursive_stars` that takes a positive integer `n` as input and prints the stars for the size of `rows x cols` from 1 to n. The function should stop when it reaches `n`.\n",
        "\n",
        "**Example Usage**\n",
        "\n",
        "```python\n",
        "recursive_stars(5)\n",
        "```\n",
        "\n",
        "```shell\n",
        "*\n",
        "**\n",
        "***\n",
        "****\n",
        "*****\n",
        "```"
      ],
      "metadata": {
        "id": "Vq3rRrqcm2Ic"
      }
    },
    {
      "cell_type": "code",
      "source": [
        "def recursive_stars(n, least_max = -1): # 4\n",
        "\n",
        "  if least_max == -1:\n",
        "    least_max = n - 1 #3\n",
        "\n",
        "  print(\"*\"*(n - least_max))\n",
        "\n",
        "  if least_max==0:\n",
        "    pass\n",
        "  elif n != least_max: # 4 ! = 3\n",
        "    # n-=1\n",
        "    least_max-=1\n",
        "    recursive_stars(n,least_max)\n",
        "\n",
        "recursive_stars(5)"
      ],
      "metadata": {
        "colab": {
          "base_uri": "https://localhost:8080/"
        },
        "id": "YnfZnMGDtW9o",
        "outputId": "e3bf54f7-3cdb-4a45-85d9-e4f931970f17"
      },
      "execution_count": 33,
      "outputs": [
        {
          "output_type": "stream",
          "name": "stdout",
          "text": [
            "*\n",
            "**\n",
            "***\n",
            "****\n",
            "*****\n"
          ]
        }
      ]
    }
  ]
}