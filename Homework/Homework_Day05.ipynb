{
  "nbformat": 4,
  "nbformat_minor": 0,
  "metadata": {
    "colab": {
      "provenance": []
    },
    "kernelspec": {
      "name": "python3",
      "display_name": "Python 3"
    },
    "language_info": {
      "name": "python"
    }
  },
  "cells": [
    {
      "cell_type": "markdown",
      "source": [
        "## **Homework Day 05:**\n",
        "\n",
        "**Question 1: List Manipulation**\n",
        "You have been given a list of integers `numbers = [1, 2, 3, 4, 5, 6, 7, 8, 9]`. Write a Python program to perform the following operations:\n",
        "\n",
        "* Append the number `10` to the end of the list.\n",
        "* Insert the number `0` at the beginning of the list.\n",
        "* Remove the number `5` from the list.\n",
        "* Print the length of the modified list.\n",
        "\n",
        "**Expected Output:**\n",
        "```\n",
        "Modified List: [0, 1, 2, 3, 4, 6, 7, 8, 9, 10]\n",
        "Length of the modified list: 10\n",
        "```\n",
        "\n"
      ],
      "metadata": {
        "id": "xIAAW04-WjD9"
      }
    },
    {
      "cell_type": "code",
      "source": [
        "numbers = [1,2,3,4,5,6,7,8,9]\n",
        "\n",
        "numbers.append(10)\n",
        "numbers.insert(0,0)\n",
        "numbers.remove(5)\n",
        "\n",
        "print(\"Modified List: \", numbers)\n",
        "print(\"length of the modified list:\", len(numbers))\n"
      ],
      "metadata": {
        "id": "eJN771meWsoL",
        "colab": {
          "base_uri": "https://localhost:8080/"
        },
        "outputId": "6f8861ad-aec8-4cb8-d812-82ba3304cc2e"
      },
      "execution_count": 2,
      "outputs": [
        {
          "output_type": "stream",
          "name": "stdout",
          "text": [
            "Modified List:  [0, 1, 2, 3, 4, 6, 7, 8, 9, 10]\n",
            "length of the modified list: 10\n"
          ]
        }
      ]
    },
    {
      "cell_type": "markdown",
      "source": [
        "**Question 2: Tuple Swapping**\n",
        "Given two tuples `tuple1 = (10, 20)` and `tuple2 = (30, 40)`, write a Python program to swap their values and print the updated tuples.\n",
        "\n",
        "**Expected Output:**\n",
        "```\n",
        "Original tuple1: (10, 20)\n",
        "Original tuple2: (30, 40)\n",
        "\n",
        "After swapping:\n",
        "Updated tuple1: (30, 40)\n",
        "Updated tuple2: (10, 20)\n",
        "```"
      ],
      "metadata": {
        "id": "kvKB1tR9Ws5v"
      }
    },
    {
      "cell_type": "code",
      "source": [
        "tuple1 = (10,20)\n",
        "tuple2 = (30,40)\n",
        "\n",
        "tuple1, tuple2 = tuple2, tuple1\n",
        "\n",
        "print(tuple1)\n",
        "print(tuple2)"
      ],
      "metadata": {
        "id": "wwuZOGVfWzuQ",
        "colab": {
          "base_uri": "https://localhost:8080/"
        },
        "outputId": "1f565af2-96b3-46f9-fcaa-6c8f6e492201"
      },
      "execution_count": 4,
      "outputs": [
        {
          "output_type": "stream",
          "name": "stdout",
          "text": [
            "(30, 40)\n",
            "(10, 20)\n"
          ]
        }
      ]
    },
    {
      "cell_type": "markdown",
      "source": [
        "**Question 3: Set Operations**\n",
        "You are given two sets:\n",
        "```python\n",
        "set1 = {1, 2, 3, 4, 5}\n",
        "set2 = {3, 4, 5, 6, 7}\n",
        "```\n",
        "Write a Python program to perform the following operations:\n",
        "\n",
        "* Find the union of `set1` and `set2`.\n",
        "* Find the intersection of `set1` and `set2`.\n",
        "* Find the difference between `set1` and `set2`.\n",
        "* Check if `set1` is a subset of `set2`.\n",
        "\n",
        "**Expected Output:**\n",
        "```\n",
        "Union of set1 and set2: {1, 2, 3, 4, 5, 6, 7}\n",
        "Intersection of set1 and set2: {3, 4, 5}\n",
        "Difference between set1 and set2: {1, 2}\n",
        "Is set1 a subset of set2? False\n",
        "```\n",
        "\n",
        "\n"
      ],
      "metadata": {
        "id": "ma4jJgV5WyIa"
      }
    },
    {
      "cell_type": "code",
      "source": [
        "set1 = {1, 2, 3, 4, 5}\n",
        "set2 = {3, 4, 5, 6, 7}\n",
        "\n",
        "print(\"Union of set1 and set2: \", set1.union(set2))\n",
        "print(\"Intersection of set1 and set2: \", set1.intersection(set2))\n",
        "print(\"Difference between set1 and set2: \", set1.difference(set2))\n",
        "print(\"Is set1 a subset of set2? \", set1.issubset(set2))"
      ],
      "metadata": {
        "id": "nHC9iofIWzvD",
        "colab": {
          "base_uri": "https://localhost:8080/"
        },
        "outputId": "b789ca83-1c9f-4fbb-fb28-6f417d066851"
      },
      "execution_count": 6,
      "outputs": [
        {
          "output_type": "stream",
          "name": "stdout",
          "text": [
            "Union of set1 and set2:  {1, 2, 3, 4, 5, 6, 7}\n",
            "Intersection of set1 and set2:  {3, 4, 5}\n",
            "Difference between set1 and set2:  {1, 2}\n",
            "Is set1 a subset of set2?  False\n"
          ]
        }
      ]
    },
    {
      "cell_type": "markdown",
      "source": [
        "**Question 4: Dictionary Manipulation**\n",
        "You have been given a dictionary representing a student's details:\n",
        "```python\n",
        "student = {\n",
        "    'name': 'John Doe',\n",
        "    'age': 21,\n",
        "    'major': 'Physics',\n",
        "    'university': 'XYZ University'\n",
        "}\n",
        "```\n",
        "Write a Python program to perform the following operations:\n",
        "\n",
        "* Add a new key-value pair to the dictionary: `'email': 'john.doe@example.com'`.\n",
        "* Remove the key `'major'` from the dictionary.\n",
        "* Update the student's age to `22`.\n",
        "* Check if the key `'phone'` exists in the dictionary.\n",
        "\n",
        "**Expected Output:**\n",
        "```\n",
        "Updated student dictionary:\n",
        "{\n",
        "    'name': 'John Doe',\n",
        "    'age': 22,\n",
        "    'university': 'XYZ University',\n",
        "    'email': 'john.doe@example.com'\n",
        "}\n",
        "\n",
        "Is 'phone' present in the dictionary? False\n",
        "```\n",
        "\n",
        "**Hints:**\n",
        "- For Question 1, use list methods like `append`, `insert`, and `remove`.\n",
        "- For Question 2, use tuple unpacking and temporary variables for swapping.\n",
        "- For Question 3, use set operations like `union`, `intersection`, and `difference`.\n",
        "- For Question 4, use dictionary methods like `update`, `pop`, and the `in` operator for checking existence."
      ],
      "metadata": {
        "id": "J04UKmLYW5vt"
      }
    },
    {
      "cell_type": "code",
      "source": [
        "student = {\n",
        "    'name': 'John Doe',\n",
        "    'age': 21,\n",
        "    'major': 'Physics',\n",
        "    'university': 'XYZ University'\n",
        "}\n",
        "\n",
        "#Q.1\n",
        "student['email'] = 'john.doe@example.com'\n",
        "\n",
        "#Q.2\n",
        "student.pop('major')\n",
        "\n",
        "#Q.3\n",
        "student[\"age\"] = 22\n",
        "\n",
        "# Q.4\n",
        "isPhonePresent = \"phone\" in student\n",
        "\n",
        "print(\"Updated Student Dictionary\\n\",student)\n",
        "print(\"Is 'phone' present in the dictionary?\", isPhonePresent)"
      ],
      "metadata": {
        "id": "FJYDEc9nW6qF",
        "colab": {
          "base_uri": "https://localhost:8080/"
        },
        "outputId": "84ff984d-04c6-425a-825a-650ee7618792"
      },
      "execution_count": 13,
      "outputs": [
        {
          "output_type": "stream",
          "name": "stdout",
          "text": [
            "Updated Student Dictionary\n",
            " {'name': 'John Doe', 'age': 22, 'university': 'XYZ University', 'email': 'john.doe@example.com'}\n",
            "Is 'phone' present in the dictionary? False\n"
          ]
        }
      ]
    }
  ]
}