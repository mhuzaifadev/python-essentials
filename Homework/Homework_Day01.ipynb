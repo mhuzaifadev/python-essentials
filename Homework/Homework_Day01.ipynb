{
  "nbformat": 4,
  "nbformat_minor": 0,
  "metadata": {
    "colab": {
      "provenance": []
    },
    "kernelspec": {
      "name": "python3",
      "display_name": "Python 3"
    },
    "language_info": {
      "name": "python"
    }
  },
  "cells": [
    {
      "cell_type": "markdown",
      "source": [
        "**Question 1: Basic Calculator Program**\n",
        "\n",
        "Write a Python program to create a basic calculator. The program should perform the following operations:\n",
        "\n",
        "* **Addition**: Add two numbers and display the result.\n",
        "* **Subtraction**: Subtract the second number from the first number and display the result.\n",
        "* **Multiplication**: Multiply two numbers and display the result.\n",
        "* **Division**: Divide the first number by the second number and display the result.\n",
        "\n",
        "Your program should prompt the user to enter the two numbers and the operation they want to perform (using appropriate prompts and messages).\n",
        "\n",
        "Hint: Use the input() function to get user input and the appropriate arithmetic operators to perform calculations."
      ],
      "metadata": {
        "id": "RaoIB0FhbR71"
      }
    },
    {
      "cell_type": "code",
      "execution_count": 6,
      "metadata": {
        "colab": {
          "base_uri": "https://localhost:8080/"
        },
        "id": "NA6T2EgibKpn",
        "outputId": "4ca0c750-9109-4ab3-998c-e8e6f68b9cca"
      },
      "outputs": [
        {
          "output_type": "stream",
          "name": "stdout",
          "text": [
            "Enter your first number: 6.9\n",
            "Enter your second number: 69\n",
            "Enter your mathematical operator: /\n",
            "0.1\n"
          ]
        }
      ],
      "source": [
        "num1 = float(input(\"Enter your first number: \"))\n",
        "num2 = float(input(\"Enter your second number: \"))\n",
        "op = input(\"Enter your mathematical operator: \")\n",
        "\n",
        "if op == \"+\":\n",
        "  print(num1+num2)\n",
        "elif op == \"-\":\n",
        "  print(num1-num2)\n",
        "elif op == \"*\":\n",
        "  print(num1*num2)\n",
        "elif op == \"/\":\n",
        "  print(num1/num2)\n",
        "else:\n",
        "  print(\"The mathematical operator was not correct\")\n"
      ]
    },
    {
      "cell_type": "markdown",
      "source": [
        "**Question 2: Conditional Statement Exercise**\n",
        "\n",
        "Write a Python program that prompts the user to enter an integer. The program should check the following conditions and display the corresponding messages:\n",
        "\n",
        "* If the entered number is positive, display `\"The number is positive.\"`\n",
        "* If the entered number is negative, display `\"The number is negative.\"`\n",
        "* If the entered number is zero, display `\"The number is zero.\"`\n",
        "* Additionally, if the number is greater than 100, display `\"The number is greater than 100.\"` If the number is less than -100, display `\"The number is less than -100.\"`\n",
        "\n",
        "**Make sure to handle both positive and negative numbers correctly using if-else and elif statements.**\n",
        "\n",
        "Hint: Use the int() function to convert the user input into an integer for comparison."
      ],
      "metadata": {
        "id": "kTujLAB5dXia"
      }
    },
    {
      "cell_type": "code",
      "source": [
        "number = int(input(\"Enter your number: \"))\n",
        "\n",
        "if number > 0:\n",
        "\n",
        "  if number > 100:\n",
        "    print(\"The number is greater than 100.\")\n",
        "  else:\n",
        "    print(\"The number is positive.\")\n",
        "\n",
        "elif number < 0:\n",
        "\n",
        "\n",
        "  if number < -100:\n",
        "    print(\"The number is less than 100.\")\n",
        "  else:\n",
        "    print(\"The number is negative.\")\n",
        "\n",
        "elif number == 0:\n",
        "  print(\"The number is ZERO\")\n"
      ],
      "metadata": {
        "colab": {
          "base_uri": "https://localhost:8080/"
        },
        "id": "9rfRAVUtcoOE",
        "outputId": "0192ca4f-9740-4ef8-af70-17d7ec4a2250"
      },
      "execution_count": 21,
      "outputs": [
        {
          "output_type": "stream",
          "name": "stdout",
          "text": [
            "Enter your number: -102\n",
            "The number is less than 100.\n"
          ]
        }
      ]
    }
  ]
}