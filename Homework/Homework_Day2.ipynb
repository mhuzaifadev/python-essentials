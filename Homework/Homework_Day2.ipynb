{
  "nbformat": 4,
  "nbformat_minor": 0,
  "metadata": {
    "colab": {
      "provenance": []
    },
    "kernelspec": {
      "name": "python3",
      "display_name": "Python 3"
    },
    "language_info": {
      "name": "python"
    }
  },
  "cells": [
    {
      "cell_type": "markdown",
      "source": [
        "## **Day 02 Homework**\n",
        "\n",
        "1. You are given a list of numbers. **`[1,2,3,4,5,6,7,8,9,10,11,12,13,14,15].`**\n",
        "\n",
        "  Write a Python program to **find the sum of all the prime numbers** in the list using a loop. **Prime numbers are numbers greater than 1 that are divisible only by 1 and themselves.** Display the sum of prime numbers along with the list of prime numbers found.\n",
        "\n"
      ],
      "metadata": {
        "id": "yiyOTtkcd-Vk"
      }
    },
    {
      "cell_type": "code",
      "source": [
        "# Prime Numbers\n",
        "sum = 0\n",
        "\n",
        "for num in [1,2,3,4,5,6,7,8,9,10,11,12,13,14,15]:\n",
        "\n",
        "  prime = True\n",
        "\n",
        "  if num == 1:\n",
        "    prime = False\n",
        "  elif num > 1:\n",
        "    #check for factors\n",
        "    for i in range (2,num):\n",
        "      if (num%i)==0:\n",
        "        prime = False\n",
        "        break\n",
        "\n",
        "  if prime == True:\n",
        "    print(num)\n",
        "    sum += num\n",
        "\n",
        "\n",
        "print(\"Sum=\",sum)"
      ],
      "metadata": {
        "colab": {
          "base_uri": "https://localhost:8080/"
        },
        "id": "TwLhyVBAe9_G",
        "outputId": "46e71004-830e-4dee-dd82-ac576005412f"
      },
      "execution_count": 5,
      "outputs": [
        {
          "output_type": "stream",
          "name": "stdout",
          "text": [
            "2\n",
            "3\n",
            "5\n",
            "7\n",
            "11\n",
            "13\n",
            "Sum= 41\n"
          ]
        }
      ]
    },
    {
      "cell_type": "markdown",
      "source": [
        "\n",
        "----\n",
        "\n",
        "2. Write a Python program to **generate a multiplication table of a given number.** Prompt the user to enter a number, and then use a loop to generate the multiplication table from 1 to 10 for that number. Display the table in a well-formatted manner, with each multiplication displayed as \"number x multiplier = product\".\n",
        "\n",
        "  Example output for input number = 5:\n",
        "\n",
        "  ```\n",
        "  5 x 1 = 5\n",
        "  5 x 2 = 10\n",
        "  5 x 3 = 15\n",
        "  5 x 4 = 20\n",
        "  5 x 5 = 25\n",
        "  5 x 6 = 30\n",
        "  5 x 7 = 35\n",
        "  5 x 8 = 40\n",
        "  5 x 9 = 45\n",
        "  5 x 10 = 50\n",
        "  ```\n"
      ],
      "metadata": {
        "id": "hBAl36M-eBuZ"
      }
    },
    {
      "cell_type": "code",
      "source": [
        "number = int(input(\"Enter a number to print a table: \"))\n",
        "\n",
        "for i in range (1,11):\n",
        "  print(number, \" x \",i,\" = \",number*i)"
      ],
      "metadata": {
        "colab": {
          "base_uri": "https://localhost:8080/"
        },
        "id": "7UkNVhmEjBha",
        "outputId": "20bd539b-4804-4f73-800e-543a020dc2c1"
      },
      "execution_count": 12,
      "outputs": [
        {
          "output_type": "stream",
          "name": "stdout",
          "text": [
            "Enter a number to print a table: 7\n",
            "7  x  1  =  7\n",
            "7  x  2  =  14\n",
            "7  x  3  =  21\n",
            "7  x  4  =  28\n",
            "7  x  5  =  35\n",
            "7  x  6  =  42\n",
            "7  x  7  =  49\n",
            "7  x  8  =  56\n",
            "7  x  9  =  63\n",
            "7  x  10  =  70\n"
          ]
        }
      ]
    },
    {
      "cell_type": "markdown",
      "source": [
        "----\n",
        "\n",
        "3. Write a Python program to create a star pattern using loops. Prompt the user to enter the number of rows for the star pattern. Use nested loops to print the star pattern, where each row contains a certain number of stars based on the row number. The first row will have one star, the second row will have two stars, and so on. Display the star pattern on the screen.\n",
        "\n",
        "  `Example output for input rows = 5:`\n",
        "\n",
        "  ```\n",
        "  *\n",
        "  **\n",
        "  ***\n",
        "  ****\n",
        "  *****\n",
        "  ```\n"
      ],
      "metadata": {
        "id": "gEaILT3WeDTY"
      }
    },
    {
      "cell_type": "code",
      "source": [
        "rows = int(input(\"Enter a size of star: \"))\n",
        "\n",
        "for i in range(rows):\n",
        "  print(\"*\"*(i+1))"
      ],
      "metadata": {
        "colab": {
          "base_uri": "https://localhost:8080/"
        },
        "id": "qRsK673HkYG-",
        "outputId": "b7be0e58-d4bd-4092-9c12-99d588ec47dc"
      },
      "execution_count": 22,
      "outputs": [
        {
          "output_type": "stream",
          "name": "stdout",
          "text": [
            "Enter a size of star: 5\n",
            "*\n",
            "**\n",
            "***\n",
            "****\n",
            "*****\n"
          ]
        }
      ]
    }
  ]
}