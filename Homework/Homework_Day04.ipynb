{
  "nbformat": 4,
  "nbformat_minor": 0,
  "metadata": {
    "colab": {
      "provenance": []
    },
    "kernelspec": {
      "name": "python3",
      "display_name": "Python 3"
    },
    "language_info": {
      "name": "python"
    }
  },
  "cells": [
    {
      "cell_type": "markdown",
      "source": [
        "## **Homework - Day 4: Strings and Lists**\n",
        "\n",
        "**Question 1: Reverse a String**\n",
        "\n",
        "Write a Python function called `reverse_string` that takes a string as input and returns the reversed version of that string. Do not use any built-in reverse functions.\n",
        "\n",
        "**Example:**\n",
        "```python\n",
        "Input: \"hello\"\n",
        "Output: \"olleh\"\n",
        "```\n",
        "**Hint:** You can use string slicing to reverse the string.\n",
        "\n"
      ],
      "metadata": {
        "id": "EQc3DjEUTG8_"
      }
    },
    {
      "cell_type": "code",
      "source": [
        "def reverse_string(input):\n",
        "  return input[::-1]\n",
        "\n",
        "input_str = input(\"Enter String: \")\n",
        "\n",
        "print(reverse_string(input_str))"
      ],
      "metadata": {
        "colab": {
          "base_uri": "https://localhost:8080/"
        },
        "id": "zV-37ruiTMTl",
        "outputId": "8331e0f6-fcd4-453c-8f02-3857a51ccd66"
      },
      "execution_count": 9,
      "outputs": [
        {
          "output_type": "stream",
          "name": "stdout",
          "text": [
            "Enter String: Hello\n",
            "olleH\n"
          ]
        }
      ]
    },
    {
      "cell_type": "markdown",
      "source": [
        "\n",
        "**Question 2: Count the Occurrences**\n",
        "\n",
        "Write a Python function called `count_occurrences` that takes a list of words and a target word as inputs. The function should return the number of times the target word appears in the list.\n",
        "\n",
        "**Example:**\n",
        "```python\n",
        "words_list = [\"apple\", \"banana\", \"orange\", \"banana\", \"kiwi\", \"banana\"]\n",
        "target_word = \"banana\"\n",
        "count = count_occurrences(words_list, target_word)\n",
        "print(count)  # Output: 3\n",
        "```\n",
        "**Hint:** Use a loop to iterate through the list and count the occurrences of the target word.\n",
        "\n",
        "\n"
      ],
      "metadata": {
        "id": "nwOxFUxCTMd9"
      }
    },
    {
      "cell_type": "code",
      "source": [
        "def count_occurrences(words_list, target_word):\n",
        "  count = 0\n",
        "  for word in words_list:\n",
        "    if word == target_word:\n",
        "      count += 1\n",
        "\n",
        "  return count\n",
        "\n",
        "words_list = [\"apple\", \"banana\", \"orange\", \"banana\", \"kiwi\", \"banana\"]\n",
        "target_word = \"banana\"\n",
        "count = count_occurrences(words_list, target_word)\n",
        "print(count)"
      ],
      "metadata": {
        "colab": {
          "base_uri": "https://localhost:8080/"
        },
        "id": "2t4BmhfHTUlR",
        "outputId": "25989b60-c75b-464b-9d41-c6a9532a7b22"
      },
      "execution_count": 15,
      "outputs": [
        {
          "output_type": "stream",
          "name": "stdout",
          "text": [
            "3\n"
          ]
        }
      ]
    },
    {
      "cell_type": "markdown",
      "source": [
        "**Question 3: Extracting Even Numbers**\n",
        "\n",
        "Write a Python function called `extract_even_numbers` that takes a list of integers as input and returns a new list containing only the even numbers from the input list.\n",
        "\n",
        "**Example:**\n",
        "```python\n",
        "numbers_list = [1, 2, 3, 4, 5, 6, 7, 8, 9, 10]\n",
        "even_numbers = extract_even_numbers(numbers_list)\n",
        "print(even_numbers)  # Output: [2, 4, 6, 8, 10]\n",
        "```\n",
        "**Hint:** Use list comprehension to filter out the even numbers.\n",
        "\n",
        "\n"
      ],
      "metadata": {
        "id": "thyhhuFhTUyn"
      }
    },
    {
      "cell_type": "code",
      "source": [
        "def extract_even_numbers(numbers_list):\n",
        "\n",
        "  # even_list= []\n",
        "  # for no in numbers_list:\n",
        "  #   if no%2==0:\n",
        "  #     even_list.append(no)\n",
        "\n",
        "  even_list = [no for no in numbers_list  if no%2==0]\n",
        "\n",
        "  return even_list\n",
        "\n",
        "numbers_list = [1, 2, 3, 4, 5, 6, 7, 8, 9, 10]\n",
        "even_numbers = extract_even_numbers(numbers_list)\n",
        "print(even_numbers)\n"
      ],
      "metadata": {
        "colab": {
          "base_uri": "https://localhost:8080/"
        },
        "id": "IgokBq1oTXW9",
        "outputId": "0759eb69-1728-473f-9193-809fe4316f97"
      },
      "execution_count": 19,
      "outputs": [
        {
          "output_type": "stream",
          "name": "stdout",
          "text": [
            "[2, 4, 6, 8, 10]\n"
          ]
        }
      ]
    },
    {
      "cell_type": "markdown",
      "source": [
        "**Question 4: Concatenate Lists**\n",
        "\n",
        "Write a Python function called `concatenate_lists` that takes two lists as input and returns a new list that contains all the elements from both input lists.\n",
        "\n",
        "**Example:**\n",
        "```python\n",
        "list1 = [1, 2, 3]\n",
        "list2 = [4, 5, 6]\n",
        "result_list = concatenate_lists(list1, list2)\n",
        "print(result_list)  # Output: [1, 2, 3, 4, 5, 6]\n",
        "```\n",
        "**Hint:** You can use the `+` operator to concatenate two lists.\n",
        "\n"
      ],
      "metadata": {
        "id": "VX9s-A0MTXhj"
      }
    },
    {
      "cell_type": "code",
      "source": [
        "def concatenate_lists(list1,list2):\n",
        "  return list1 + list2\n",
        "\n",
        "list1 = [1, 2, 3]\n",
        "list2 = [4, 5, 6]\n",
        "result_list = concatenate_lists(list1, list2)\n",
        "print(result_list)"
      ],
      "metadata": {
        "colab": {
          "base_uri": "https://localhost:8080/"
        },
        "id": "gQcNole1TZUL",
        "outputId": "5b04f936-bac1-4f74-a320-30f70580076d"
      },
      "execution_count": 20,
      "outputs": [
        {
          "output_type": "stream",
          "name": "stdout",
          "text": [
            "[1, 2, 3, 4, 5, 6]\n"
          ]
        }
      ]
    }
  ]
}