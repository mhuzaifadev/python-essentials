{
  "nbformat": 4,
  "nbformat_minor": 0,
  "metadata": {
    "colab": {
      "provenance": []
    },
    "kernelspec": {
      "name": "python3",
      "display_name": "Python 3"
    },
    "language_info": {
      "name": "python"
    }
  },
  "cells": [
    {
      "cell_type": "markdown",
      "source": [
        "# **Homework Day 07**\n",
        "\n",
        "### **Homework Task 1: Custom Exception Handling**\n",
        "\n",
        "**Hint:** Create a custom exception class for handling a specific type of error. Use this custom exception in a function that calculates the factorial of a given positive integer.\n",
        "\n",
        "**Elaborated Logic:**\n",
        "1. Define a custom exception class `FactorialError` that inherits from the base `Exception` class. This exception will be raised when there's an issue with calculating the factorial.\n",
        "2. Create a function `calculate_factorial(n)` that takes a positive integer `n` as input.\n",
        "3. Inside the function, use a `try`...`except` block to handle possible exceptions. If the input `n` is negative or not an integer, raise a `FactorialError` with a custom error message.\n",
        "4. Calculate the factorial using a loop and return the result.\n",
        "5. Outside the function, prompt the user to input an integer, call the `calculate_factorial` function, and handle any `FactorialError` exceptions by printing the custom error message."
      ],
      "metadata": {
        "id": "7rscg3vwt5kd"
      }
    },
    {
      "cell_type": "code",
      "execution_count": 8,
      "metadata": {
        "id": "xYmXSdgrtnzj",
        "colab": {
          "base_uri": "https://localhost:8080/"
        },
        "outputId": "af2d3ca8-1476-4afa-ed3c-164d72de8098"
      },
      "outputs": [
        {
          "output_type": "stream",
          "name": "stdout",
          "text": [
            "Enter a non-negative integer: -3\n",
            "Input must be a non-negative integer\n"
          ]
        }
      ],
      "source": [
        "class FactorialError(Exception):\n",
        "    pass\n",
        "\n",
        "\n",
        "def calculate_factorial(n):\n",
        "\n",
        "    if not isinstance(n, int) or n < 0:\n",
        "        raise FactorialError(\"Input must be a non-negative integer\")\n",
        "\n",
        "    factorial = 1\n",
        "    for i in range(1, n + 1):\n",
        "        factorial *= i\n",
        "    return factorial\n",
        "\n",
        "\n",
        "try:\n",
        "    number = int(input(\"Enter a non-negative integer: \"))\n",
        "    result = calculate_factorial(number)\n",
        "    print(f\"The factorial of {number} is {result}\")\n",
        "except FactorialError as e:\n",
        "    print(e)"
      ]
    },
    {
      "cell_type": "markdown",
      "source": [
        "### **Homework Task 2: File Handling and Exception Propagation**\n",
        "\n",
        "**Hint:** Write a program that reads data from a file, performs some operations, and raises exceptions if necessary. Create a custom exception class for file-related errors.\n",
        "\n",
        "**Elaborated Logic:**\n",
        "1. Define a custom exception class `FileProcessingError` that inherits from the base `Exception` class. This exception will be raised when there's an issue with file processing.\n",
        "2. Create a function `process_file(file_name)` that takes a file name as input.\n",
        "3. Inside the function, use a `try`...`except` block to handle possible exceptions while opening and reading the file. If the file does not exist, raise a `FileProcessingError` with a custom error message.\n",
        "4. Read the content of the file and perform some operation (e.g., count the number of words).\n",
        "5. Outside the function, call the `process_file` function with a valid file name. Handle any `FileProcessingError` exceptions by printing the custom error message."
      ],
      "metadata": {
        "id": "nLtNW02Ft-ZP"
      }
    },
    {
      "cell_type": "code",
      "source": [
        "class FileProcessingError(Exception):\n",
        "    pass\n",
        "\n",
        "def process_file(file_name):\n",
        "    try:\n",
        "        with open(file_name, 'r') as file:\n",
        "            content = file.read()\n",
        "            words_count = len(content.split())\n",
        "            print(f\"The file '{file_name}' contains {words_count} words.\")\n",
        "    except FileNotFoundError:\n",
        "        raise FileProcessingError(f\"The file '{file_name}' was not found.\")\n",
        "\n",
        "try:\n",
        "    file_name = \"/content/example.txt\" # Change this to the correct file name\n",
        "    process_file(file_name)\n",
        "except FileProcessingError as e:\n",
        "    print(e)"
      ],
      "metadata": {
        "id": "eiDRFm8duNFG",
        "colab": {
          "base_uri": "https://localhost:8080/"
        },
        "outputId": "ed13bae3-fa57-4785-fd26-3f30afbefbce"
      },
      "execution_count": 11,
      "outputs": [
        {
          "output_type": "stream",
          "name": "stdout",
          "text": [
            "The file '/content/example.txt' contains 17 words.\n"
          ]
        }
      ]
    }
  ]
}