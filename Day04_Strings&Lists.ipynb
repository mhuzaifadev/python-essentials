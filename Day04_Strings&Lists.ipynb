{
  "nbformat": 4,
  "nbformat_minor": 0,
  "metadata": {
    "colab": {
      "provenance": []
    },
    "kernelspec": {
      "name": "python3",
      "display_name": "Python 3"
    },
    "language_info": {
      "name": "python"
    }
  },
  "cells": [
    {
      "cell_type": "markdown",
      "source": [
        "## **Chapter 04: Strings and Lists**\n",
        "\n",
        "We will dive deep into understanding strings and lists in Python. Strings and lists are fundamental data types that are widely used in Python programming. By the end of this workshop, you will have a comprehensive understanding of string operations, formatting, list operations, and methods."
      ],
      "metadata": {
        "id": "AIWV7PtkMXFj"
      }
    },
    {
      "cell_type": "markdown",
      "source": [
        "### **4.1 Introduction to Strings:**\n",
        "\n",
        "**String Creation and Assignment:**"
      ],
      "metadata": {
        "id": "IqKq6gDNOfCq"
      }
    },
    {
      "cell_type": "code",
      "execution_count": 7,
      "metadata": {
        "colab": {
          "base_uri": "https://localhost:8080/"
        },
        "id": "MMAEhkHLMJL6",
        "outputId": "c171b016-6d51-4208-ee80-a617c2efb17f"
      },
      "outputs": [
        {
          "output_type": "stream",
          "name": "stdout",
          "text": [
            "Hello, World!\n",
            "Python is awesome!\n",
            "This is a multi-line\n",
            "string in Python.\n",
            "And I believe you are a good guy\n",
            "and that's why you are learning Python.\n",
            "\n",
            "\n",
            "\n",
            "hello this is multiline string with 'double quotations'\n",
            "Wasn't it wonderful?\n",
            "\n",
            "\n"
          ]
        }
      ],
      "source": [
        "# Single and double quotes for string creation\n",
        "str1 = 'Hello, World!'\n",
        "str2 = \"Python is awesome!\"\n",
        "\n",
        "# Multi-line strings with triple quotes\n",
        "str3 = '''This is a multi-line\n",
        "string in Python.\n",
        "And I believe you are a good guy\n",
        "and that's why you are learning Python.\n",
        "'''\n",
        "\n",
        "str4 = \"\"\"\n",
        "\n",
        "hello this is multiline string with 'double quotations'\n",
        "Wasn't it wonderful?\n",
        "\n",
        "\"\"\"\n",
        "print(str1)\n",
        "print(str2)\n",
        "print(str3)\n",
        "print(str4)"
      ]
    },
    {
      "cell_type": "markdown",
      "source": [
        "**String Indexing and Slicing:**"
      ],
      "metadata": {
        "id": "1-keXUMlO_mH"
      }
    },
    {
      "cell_type": "code",
      "source": [
        "text = \"Python Programming\"\n",
        "\n",
        "# Indexing\n",
        "print(text[0])\n",
        "print(text[5])\n",
        "print(text[-1])\n",
        "print(text[-4])\n",
        "\n",
        "# Slicing\n",
        "print(text[0:6])\n",
        "print(text[7:])\n"
      ],
      "metadata": {
        "colab": {
          "base_uri": "https://localhost:8080/"
        },
        "id": "YJ17CkikPDCu",
        "outputId": "ab182228-065a-4c44-e29b-ba176b9de3ae"
      },
      "execution_count": 13,
      "outputs": [
        {
          "output_type": "stream",
          "name": "stdout",
          "text": [
            "P\n",
            "n\n",
            "g\n",
            "m\n",
            "Python\n",
            "Programming\n"
          ]
        }
      ]
    },
    {
      "cell_type": "markdown",
      "source": [
        "**String Concatenation:**"
      ],
      "metadata": {
        "id": "NqEmIYKTPHCH"
      }
    },
    {
      "cell_type": "code",
      "source": [
        "str1 = \"Hello\"\n",
        "str2 = \"World\"\n",
        "\n",
        "concatenated_str = str1 + \" , \" + str2\n",
        "print(concatenated_str)"
      ],
      "metadata": {
        "colab": {
          "base_uri": "https://localhost:8080/"
        },
        "id": "X4_vfJK8PJ81",
        "outputId": "9e7d4a07-9096-4f62-ac68-2bf28cc64abc"
      },
      "execution_count": 17,
      "outputs": [
        {
          "output_type": "stream",
          "name": "stdout",
          "text": [
            "Hello , World\n"
          ]
        }
      ]
    },
    {
      "cell_type": "markdown",
      "source": [
        "**String Methods:**"
      ],
      "metadata": {
        "id": "tuEpGbJiPQ1B"
      }
    },
    {
      "cell_type": "code",
      "source": [
        "text = \" Python is fun! \"\n",
        "\n",
        "print(text.upper())\n",
        "print(text.lower())\n",
        "print(text.strip())  # Removing or stripping white spaces\n",
        "\n",
        "print(text.replace('fun', 'awesome'))\n",
        "\n",
        "print(text.replace('Python', 'Typescript'))"
      ],
      "metadata": {
        "colab": {
          "base_uri": "https://localhost:8080/"
        },
        "id": "uIr-oinHPUE9",
        "outputId": "d0ec51f8-6aab-4db2-d4a4-6bda60b5ef6d"
      },
      "execution_count": 21,
      "outputs": [
        {
          "output_type": "stream",
          "name": "stdout",
          "text": [
            " PYTHON IS FUN! \n",
            " python is fun! \n",
            "Python is fun!\n",
            " Python is awesome! \n",
            " Typescript is fun! \n"
          ]
        }
      ]
    },
    {
      "cell_type": "markdown",
      "source": [
        "### **4.2 String Formatting:**\n",
        "\n",
        "**Basic String Formatting using % Operator:**\n",
        "\n",
        "%s means String\n",
        "%d means Integer\n",
        "%f means Float"
      ],
      "metadata": {
        "id": "qZvEZrPBPXvY"
      }
    },
    {
      "cell_type": "code",
      "source": [
        "name = \"Alice\"\n",
        "age = 30\n",
        "\n",
        "formatted_str = \"My name is %s and I am %d years old.\" % (name, age)\n",
        "print(formatted_str)\n",
        "\n",
        "\n"
      ],
      "metadata": {
        "colab": {
          "base_uri": "https://localhost:8080/"
        },
        "id": "AEizzpOSPb-k",
        "outputId": "53b5a7e4-30dc-486a-e7ce-78c3e7da1cb0"
      },
      "execution_count": 22,
      "outputs": [
        {
          "output_type": "stream",
          "name": "stdout",
          "text": [
            "My name is Alice and I am 30 years old.\n"
          ]
        }
      ]
    },
    {
      "cell_type": "markdown",
      "source": [
        "**Format Method:**"
      ],
      "metadata": {
        "id": "38pwqtkJPgPe"
      }
    },
    {
      "cell_type": "code",
      "source": [
        "name = \"Bob\"\n",
        "age = 25\n",
        "\n",
        "formatted_str = \"My name is {} and I am {} years old.\".format(name, age)\n",
        "print(formatted_str)\n"
      ],
      "metadata": {
        "colab": {
          "base_uri": "https://localhost:8080/"
        },
        "id": "fqHACloAPn8t",
        "outputId": "6f950ced-4cf9-4b05-d8c1-dcb355a15896"
      },
      "execution_count": 25,
      "outputs": [
        {
          "output_type": "stream",
          "name": "stdout",
          "text": [
            "My name is Bob and I am 25 years old.\n"
          ]
        }
      ]
    },
    {
      "cell_type": "markdown",
      "source": [
        "**F-strings (Formatted String Literals):**\n",
        "\n",
        "THIS WAS INTRODUCED IN PYTHON 3.8 FOR THE FIRST TIME (2019)"
      ],
      "metadata": {
        "id": "JLVZ4nDrPqsN"
      }
    },
    {
      "cell_type": "code",
      "source": [
        "name = \"Carol\"\n",
        "age = 35\n",
        "\n",
        "formatted_str = f\"My name is {name} and I am {age} years old.\"\n",
        "print(formatted_str)\n"
      ],
      "metadata": {
        "colab": {
          "base_uri": "https://localhost:8080/"
        },
        "id": "tXfk86TQP4z4",
        "outputId": "09c9b695-f196-4574-c0d3-eee35e191851"
      },
      "execution_count": 26,
      "outputs": [
        {
          "output_type": "stream",
          "name": "stdout",
          "text": [
            "My name is Carol and I am 35 years old.\n"
          ]
        }
      ]
    },
    {
      "cell_type": "markdown",
      "source": [
        "### **4.3 Escape Sequences**\n",
        "\n",
        "In Python, escape sequences are special characters used to represent certain non-printable or special characters within strings. They are prefixed with a backslash `\\`. Here's a table representing some common escape sequences and their meanings:\n",
        "\n",
        "| Escape Sequence | Meaning                  |\n",
        "|-----------------|--------------------------|\n",
        "| `\\\\`            | Backslash                |\n",
        "| `\\'`            | Single quote (apostrophe)|\n",
        "| `\\\"`            | Double quote             |\n",
        "| `\\n`            | Newline                  |\n",
        "| `\\t`            | Tab                      |\n",
        "| `\\r`            | Carriage return          |\n",
        "| `\\b`            | Backspace                |\n",
        "| `\\f`            | Form feed                |\n",
        "\n",
        "Escape sequences allow us to include special characters in strings and format the output effectively. Use them wisely to enhance the readability and usability of your Python programs.\n",
        "\n",
        "\n"
      ],
      "metadata": {
        "id": "WtgCJRhsSRU5"
      }
    },
    {
      "cell_type": "code",
      "source": [
        "# Using escape sequences to create special characters within strings\n",
        "\n",
        "print(\"Hello, \\\"Python\\\"!\")\n",
        "\n",
        "print('I\\'m learning Python.')\n",
        "\n",
        "print(\"Line 1\\nLine 2\\nLine 3\")   # IMPORTANT\n",
        "\n",
        "print(\"Name:\\tJohn\")   # IMPORTANT\n",
        "\n",
        "print(\"This is a carriage return:\\rHello\")\n",
        "\n",
        "print(\"Backspace:\\b\\b\\bHello\")"
      ],
      "metadata": {
        "colab": {
          "base_uri": "https://localhost:8080/"
        },
        "id": "zI2RgVJxSmPz",
        "outputId": "6716860b-09b7-4e4d-a444-85e798a8b3cf"
      },
      "execution_count": 36,
      "outputs": [
        {
          "output_type": "stream",
          "name": "stdout",
          "text": [
            "Hello, \"Python\"!\n",
            "I'm learning Python.\n",
            "Line 1\n",
            "Line 2\n",
            "Line 3\n",
            "Name:\tJohn\n",
            "This is a carriage return:\rHello\n",
            "Backspace:\b\b\bHello\n"
          ]
        }
      ]
    },
    {
      "cell_type": "markdown",
      "source": [
        "### **4.4 List Basics**\n",
        "\n",
        "**Creating Lists:**"
      ],
      "metadata": {
        "id": "shwFeTE3P7La"
      }
    },
    {
      "cell_type": "code",
      "source": [
        "fruits = [\"apple\", \"banana\", \"orange\", \"grape\"]\n",
        "numbers = [1, 2, 3, 4, 5]\n",
        "mixed_list = [\"apple\", 42, True, 3.14]\n",
        "\n",
        "print(fruits)\n",
        "print(numbers)\n",
        "print(mixed_list)"
      ],
      "metadata": {
        "colab": {
          "base_uri": "https://localhost:8080/"
        },
        "id": "s_zqToAEQGer",
        "outputId": "cc37807e-2608-43fb-8b35-6d96a2059f44"
      },
      "execution_count": 37,
      "outputs": [
        {
          "output_type": "stream",
          "name": "stdout",
          "text": [
            "['apple', 'banana', 'orange', 'grape']\n",
            "[1, 2, 3, 4, 5]\n",
            "['apple', 42, True, 3.14]\n"
          ]
        }
      ]
    },
    {
      "cell_type": "markdown",
      "source": [
        "**List Indexing and Slicing:**"
      ],
      "metadata": {
        "id": "UJ3kD1_4QIzG"
      }
    },
    {
      "cell_type": "code",
      "source": [
        "fruits = [\"apple\", \"banana\", \"orange\", \"grape\"]\n",
        "\n",
        "print(fruits[0])\n",
        "print(fruits[-1])\n",
        "print(fruits[1:3])\n"
      ],
      "metadata": {
        "colab": {
          "base_uri": "https://localhost:8080/"
        },
        "id": "p0izDejZQLRE",
        "outputId": "966cb48e-3e1a-4ea9-c76e-bade95ecfda6"
      },
      "execution_count": 38,
      "outputs": [
        {
          "output_type": "stream",
          "name": "stdout",
          "text": [
            "apple\n",
            "grape\n",
            "['banana', 'orange']\n"
          ]
        }
      ]
    },
    {
      "cell_type": "markdown",
      "source": [
        "**Modifying Lists:**"
      ],
      "metadata": {
        "id": "64U1ASMZQMz_"
      }
    },
    {
      "cell_type": "code",
      "source": [
        "fruits = [\"apple\", \"banana\", \"orange\", \"grape\"]\n",
        "\n",
        "fruits.append(\"kiwi\")\n",
        "print(fruits)\n",
        "\n",
        "fruits.insert(2, \"mango\")\n",
        "print(fruits)\n",
        "\n",
        "fruits.extend([\"pineapple\", \"watermelon\",\"cherry\"])\n",
        "print(fruits)"
      ],
      "metadata": {
        "colab": {
          "base_uri": "https://localhost:8080/"
        },
        "id": "O8OiB4W9QPjH",
        "outputId": "9c573603-508d-43d4-e820-b9f4228fcf28"
      },
      "execution_count": 45,
      "outputs": [
        {
          "output_type": "stream",
          "name": "stdout",
          "text": [
            "['apple', 'banana', 'orange', 'grape', 'kiwi']\n",
            "['apple', 'banana', 'mango', 'orange', 'grape', 'kiwi']\n",
            "['apple', 'banana', 'mango', 'orange', 'grape', 'kiwi', 'pineapple', 'watermelon', 'cherry']\n"
          ]
        }
      ]
    },
    {
      "cell_type": "markdown",
      "source": [
        "### **4.5 List Methods:**\n",
        "\n",
        "**Common List Methods:**"
      ],
      "metadata": {
        "id": "hzlhwTs3QZTr"
      }
    },
    {
      "cell_type": "code",
      "source": [
        "numbers = [3, 1, 4, 1, 5, 9, 2, 6, 5]\n",
        "\n",
        "numbers.sort()\n",
        "print(numbers)\n",
        "\n",
        "numbers.reverse()\n",
        "print(numbers)\n",
        "\n",
        "numbers.remove(3)\n",
        "print(numbers)\n",
        "\n",
        "numbers.pop()  # Remove last element\n",
        "print(numbers)"
      ],
      "metadata": {
        "colab": {
          "base_uri": "https://localhost:8080/"
        },
        "id": "Ik-ChjDDQi17",
        "outputId": "796a7f20-1dd2-4071-d48b-f1a207cc6326"
      },
      "execution_count": 47,
      "outputs": [
        {
          "output_type": "stream",
          "name": "stdout",
          "text": [
            "[1, 1, 2, 3, 4, 5, 5, 6, 9]\n",
            "[9, 6, 5, 5, 4, 3, 2, 1, 1]\n",
            "[9, 6, 5, 5, 4, 2, 1, 1]\n",
            "[9, 6, 5, 5, 4, 2, 1]\n"
          ]
        }
      ]
    },
    {
      "cell_type": "markdown",
      "source": [
        "**Other Useful List Methods:**"
      ],
      "metadata": {
        "id": "7_J51CzJQura"
      }
    },
    {
      "cell_type": "code",
      "source": [
        "numbers = [3, 1, 4, 1, 5, 9, 2, 6, 5]\n",
        "\n",
        "index_5 = numbers.index(5)\n",
        "print(index_5)\n",
        "\n",
        "count_1 = numbers.count(1)\n",
        "print(count_1)\n",
        "\n",
        "numbers_copy = numbers.copy()\n",
        "print(numbers_copy)"
      ],
      "metadata": {
        "colab": {
          "base_uri": "https://localhost:8080/"
        },
        "id": "Kjt821-BQwVg",
        "outputId": "9d67110f-54ba-464e-b161-9bf0fbbc3a53"
      },
      "execution_count": 51,
      "outputs": [
        {
          "output_type": "stream",
          "name": "stdout",
          "text": [
            "4\n",
            "2\n",
            "[3, 1, 4, 1, 5, 9, 2, 6, 5]\n"
          ]
        }
      ]
    },
    {
      "cell_type": "markdown",
      "source": [
        "**List Comprehension:**"
      ],
      "metadata": {
        "id": "wPaVTZiXQ4Ca"
      }
    },
    {
      "cell_type": "code",
      "source": [
        "numbers = [1, 2, 3, 4, 5]\n",
        "\n",
        "squared_numbers = [x**2 for x in numbers]\n",
        "print(squared_numbers)\n"
      ],
      "metadata": {
        "colab": {
          "base_uri": "https://localhost:8080/"
        },
        "id": "DkE2hy4KQ5eO",
        "outputId": "6c6b3604-e3af-4847-f5f8-1e04fe71483d"
      },
      "execution_count": 56,
      "outputs": [
        {
          "output_type": "stream",
          "name": "stdout",
          "text": [
            "[1, 4, 9, 16, 25]\n"
          ]
        }
      ]
    },
    {
      "cell_type": "markdown",
      "source": [
        "### **4.6 Combining Strings and Lists:**\n",
        "\n",
        "**Joining Strings from a List:**"
      ],
      "metadata": {
        "id": "kOm2VMoLQ_Lk"
      }
    },
    {
      "cell_type": "code",
      "source": [
        "fruits = [\"apple\", \"banana\", \"orange\"]\n",
        "\n",
        "# Using join() method\n",
        "combined_str = \", \".join(fruits)\n",
        "print(combined_str)\n"
      ],
      "metadata": {
        "colab": {
          "base_uri": "https://localhost:8080/"
        },
        "id": "09LeSGZuRG_o",
        "outputId": "6c127238-84e0-4395-8d08-a5767e7a5961"
      },
      "execution_count": 60,
      "outputs": [
        {
          "output_type": "stream",
          "name": "stdout",
          "text": [
            "apple, banana, orange\n"
          ]
        }
      ]
    },
    {
      "cell_type": "markdown",
      "source": [
        "**Splitting a String into a List:**"
      ],
      "metadata": {
        "id": "xmSCDf9lRKfu"
      }
    },
    {
      "cell_type": "code",
      "source": [
        "text = \"apple, banana, orange\"\n",
        "\n",
        "# Using split() method\n",
        "fruits_list = text.split(\", \")\n",
        "print(fruits_list)"
      ],
      "metadata": {
        "colab": {
          "base_uri": "https://localhost:8080/"
        },
        "id": "e6vqFaYqRMm-",
        "outputId": "ea6db8a0-6824-4a6d-8e72-f6ee89df1f6c"
      },
      "execution_count": 64,
      "outputs": [
        {
          "output_type": "stream",
          "name": "stdout",
          "text": [
            "['apple', 'banana', 'orange']\n"
          ]
        }
      ]
    },
    {
      "cell_type": "markdown",
      "source": [
        "### **4.7 Built-in Functions:**\n",
        "\n",
        "**len() Function:**"
      ],
      "metadata": {
        "id": "bJiox0muRqX_"
      }
    },
    {
      "cell_type": "code",
      "source": [
        "text = \"Python is amazing!\"\n",
        "\n",
        "length = len(text)\n",
        "print(length)"
      ],
      "metadata": {
        "colab": {
          "base_uri": "https://localhost:8080/"
        },
        "id": "jYoYi17GRw6o",
        "outputId": "eaedc506-7854-42c8-d48d-51d6c5ae834a"
      },
      "execution_count": 65,
      "outputs": [
        {
          "output_type": "stream",
          "name": "stdout",
          "text": [
            "18\n"
          ]
        }
      ]
    },
    {
      "cell_type": "code",
      "source": [
        "numbers = [3, 1, 4, 1, 5, 9, 2, 6, 5]\n",
        "\n",
        "length = len(numbers)\n",
        "print(length)"
      ],
      "metadata": {
        "colab": {
          "base_uri": "https://localhost:8080/"
        },
        "id": "KkDpbuDmxj36",
        "outputId": "3a5b5ee0-cd81-4cbe-803c-462646a74465"
      },
      "execution_count": 66,
      "outputs": [
        {
          "output_type": "stream",
          "name": "stdout",
          "text": [
            "9\n"
          ]
        }
      ]
    },
    {
      "cell_type": "markdown",
      "source": [
        "**min() and max() Functions:**"
      ],
      "metadata": {
        "id": "WvAGrADqR3c1"
      }
    },
    {
      "cell_type": "code",
      "source": [
        "numbers = [3, 1, 4, 1, 5, 9, 2, 6, 5]\n",
        "\n",
        "min_num = min(numbers)\n",
        "print(min_num)  # Output: 1\n",
        "\n",
        "max_num = max(numbers)\n",
        "print(max_num)  # Output: 9"
      ],
      "metadata": {
        "colab": {
          "base_uri": "https://localhost:8080/"
        },
        "id": "Hv3E_Vn6R7it",
        "outputId": "06f6fe7c-4c7f-4ec5-f3a1-649bb307088a"
      },
      "execution_count": 67,
      "outputs": [
        {
          "output_type": "stream",
          "name": "stdout",
          "text": [
            "1\n",
            "9\n"
          ]
        }
      ]
    },
    {
      "cell_type": "markdown",
      "source": [
        "**sum() Function:**"
      ],
      "metadata": {
        "id": "HAh59XZvR-FH"
      }
    },
    {
      "cell_type": "code",
      "source": [
        "numbers = [1, 2, 3, 4, 5]\n",
        "\n",
        "total_sum = sum(numbers)\n",
        "print(total_sum)   # Output: 15\n"
      ],
      "metadata": {
        "colab": {
          "base_uri": "https://localhost:8080/"
        },
        "id": "79CcP0epSDwT",
        "outputId": "2fef0dd6-5551-4708-ba37-1bd78d4b5b82"
      },
      "execution_count": 68,
      "outputs": [
        {
          "output_type": "stream",
          "name": "stdout",
          "text": [
            "15\n"
          ]
        }
      ]
    },
    {
      "cell_type": "markdown",
      "source": [
        "**sorted() Function:**"
      ],
      "metadata": {
        "id": "lMU9wWfjSIFD"
      }
    },
    {
      "cell_type": "code",
      "source": [
        "fruits = [\"orange\", \"apple\", \"banana\", \"grape\"]\n",
        "\n",
        "sorted_fruits = sorted(fruits)\n",
        "print(sorted_fruits)   # It assignes the copy of sorted output\n",
        "\n",
        "print(fruits)"
      ],
      "metadata": {
        "colab": {
          "base_uri": "https://localhost:8080/"
        },
        "id": "_iL-g-rqSKea",
        "outputId": "b989ea1f-287b-49c3-ddae-6fd6d816dd3d"
      },
      "execution_count": 71,
      "outputs": [
        {
          "output_type": "stream",
          "name": "stdout",
          "text": [
            "['apple', 'banana', 'grape', 'orange']\n",
            "['orange', 'apple', 'banana', 'grape']\n"
          ]
        }
      ]
    },
    {
      "cell_type": "markdown",
      "source": [
        "**Homework - Day 4: Strings and Lists**\n",
        "\n",
        "**Question 1: Reverse a String**\n",
        "\n",
        "Write a Python function called `reverse_string` that takes a string as input and returns the reversed version of that string. Do not use any built-in reverse functions.\n",
        "\n",
        "**Example:**\n",
        "```python\n",
        "Input: \"hello\"\n",
        "Output: \"olleh\"\n",
        "```\n",
        "**Hint:** You can use string slicing to reverse the string.\n",
        "\n",
        "----\n",
        "\n",
        "**Question 2: Count the Occurrences**\n",
        "\n",
        "Write a Python function called `count_occurrences` that takes a list of words and a target word as inputs. The function should return the number of times the target word appears in the list.\n",
        "\n",
        "**Example:**\n",
        "```python\n",
        "words_list = [\"apple\", \"banana\", \"orange\", \"banana\", \"kiwi\", \"banana\"]\n",
        "target_word = \"banana\"\n",
        "count = count_occurrences(words_list, target_word)\n",
        "print(count)  # Output: 3\n",
        "```\n",
        "**Hint:** Use a loop to iterate through the list and count the occurrences of the target word.\n",
        "\n",
        "---\n",
        "\n",
        "**Question 3: Extracting Even Numbers**\n",
        "\n",
        "Write a Python function called `extract_even_numbers` that takes a list of integers as input and returns a new list containing only the even numbers from the input list.\n",
        "\n",
        "**Example:**\n",
        "```python\n",
        "numbers_list = [1, 2, 3, 4, 5, 6, 7, 8, 9, 10]\n",
        "even_numbers = extract_even_numbers(numbers_list)\n",
        "print(even_numbers)  # Output: [2, 4, 6, 8, 10]\n",
        "```\n",
        "**Hint:** Use list comprehension to filter out the even numbers.\n",
        "\n",
        "---\n",
        "\n",
        "**Question 4: Concatenate Lists**\n",
        "\n",
        "Write a Python function called `concatenate_lists` that takes two lists as input and returns a new list that contains all the elements from both input lists.\n",
        "\n",
        "**Example:**\n",
        "```python\n",
        "list1 = [1, 2, 3]\n",
        "list2 = [4, 5, 6]\n",
        "result_list = concatenate_lists(list1, list2)\n",
        "print(result_list)  # Output: [1, 2, 3, 4, 5, 6]\n",
        "```\n",
        "**Hint:** You can use the `+` operator to concatenate two lists.\n",
        "\n"
      ],
      "metadata": {
        "id": "sZP3ezQsTkyV"
      }
    }
  ]
}