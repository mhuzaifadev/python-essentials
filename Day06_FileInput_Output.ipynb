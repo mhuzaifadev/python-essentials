{
  "nbformat": 4,
  "nbformat_minor": 0,
  "metadata": {
    "colab": {
      "provenance": []
    },
    "kernelspec": {
      "name": "python3",
      "display_name": "Python 3"
    },
    "language_info": {
      "name": "python"
    }
  },
  "cells": [
    {
      "cell_type": "markdown",
      "source": [
        "# **Chapter 06: File Input/Output in Python**"
      ],
      "metadata": {
        "id": "wZMdhDbzOp9e"
      }
    },
    {
      "cell_type": "markdown",
      "source": [
        "## **File Input/Output in Python**\n",
        "\n",
        "In this notebook, we will explore how to read and write files in Python. We'll also learn how to handle exceptions and understand various file-handling functions and methods.\n",
        "\n",
        "\n",
        "**Topics Covered:**\n",
        "- Reading and Writing Files\n",
        "- Handling Exceptions\n",
        "- Understanding File-Handling Functions and Methods\n"
      ],
      "metadata": {
        "id": "MzMLfxRCO5-v"
      }
    },
    {
      "cell_type": "markdown",
      "source": [
        "## **6.1 Reading and Writing Files**\n",
        "\n",
        "Files are an essential part of any programming language, allowing data to be stored and retrieved. In this section, we'll explore how to read from and write to files in Python.\n"
      ],
      "metadata": {
        "id": "e8Z2AfIdO_GV"
      }
    },
    {
      "cell_type": "markdown",
      "source": [
        "**Reading Files**"
      ],
      "metadata": {
        "id": "aRZIqmfRPLzy"
      }
    },
    {
      "cell_type": "code",
      "source": [
        "# Reading a File\n",
        "\n",
        "# Open a file in read mode\n",
        "file = open('/content/output.txt', 'r')\n",
        "\n",
        "# Read the entire content of the file\n",
        "content = file.read()\n",
        "\n",
        "# Print the content\n",
        "print(content)\n",
        "\n",
        "# Close the file\n",
        "file.close()\n"
      ],
      "metadata": {
        "colab": {
          "base_uri": "https://localhost:8080/"
        },
        "id": "hwGj9b87PNsc",
        "outputId": "ce20b954-2ede-4f80-f101-b3f182558576"
      },
      "execution_count": null,
      "outputs": [
        {
          "output_type": "stream",
          "name": "stdout",
          "text": [
            "Hello, World!, I am Huzaifa here I am an AI Engineer at lenaar. I do alot of amazing stuff around.\n"
          ]
        }
      ]
    },
    {
      "cell_type": "markdown",
      "source": [
        "**Writing Files**"
      ],
      "metadata": {
        "id": "Fv-DzNcEPQX2"
      }
    },
    {
      "cell_type": "code",
      "source": [
        "# Writing to a File\n",
        "\n",
        "# Open a file in write mode\n",
        "file = open('output.txt', 'w')\n",
        "\n",
        "# Write some content to the file\n",
        "file.write(\"Hello, World!, I am Huzaifa here I am an AI Engineer at lenaar. \\nI do alot of amazing stuff around.\")\n",
        "\n",
        "# Close the file\n",
        "file.close()\n"
      ],
      "metadata": {
        "id": "ArOPwtmBPTN-"
      },
      "execution_count": null,
      "outputs": []
    },
    {
      "cell_type": "markdown",
      "source": [
        "## **6.2 Handling Exceptions**\n",
        "\n",
        "When working with files, it's essential to handle exceptions to prevent unexpected errors. Let's explore how to do this in Python.\n"
      ],
      "metadata": {
        "id": "fo2lNVsmPXkE"
      }
    },
    {
      "cell_type": "code",
      "source": [
        "# Using try-except to Handle File Errors\n",
        "\n",
        "\n",
        "try:\n",
        "    file = open('non_existent_file.txt', 'r')\n",
        "except FileNotFoundError:\n",
        "    print(\"File not found!\")\n",
        "\n",
        "# Other code can continue here without interruption\n",
        "print(\" I am gonna buy new shoes tonight \")"
      ],
      "metadata": {
        "colab": {
          "base_uri": "https://localhost:8080/"
        },
        "id": "asLYD4AnPb3p",
        "outputId": "7870150e-53aa-4d15-cf80-2e7547edd0fb"
      },
      "execution_count": null,
      "outputs": [
        {
          "output_type": "stream",
          "name": "stdout",
          "text": [
            "File not found!\n",
            " I am gonna buy new shoes tonight \n"
          ]
        }
      ]
    },
    {
      "cell_type": "markdown",
      "source": [
        "Here, we used a try-except block to catch the `FileNotFoundError` exception, which occurs when the file does not exist.\n"
      ],
      "metadata": {
        "id": "Aj3eGfBGQgpp"
      }
    },
    {
      "cell_type": "markdown",
      "source": [
        "## **6.3 Understanding File-Handling Functions and Methods**\n",
        "\n",
        "Python provides various functions and methods for file handling. Let's explore some of them.\n"
      ],
      "metadata": {
        "id": "SmkQcnQgPqd9"
      }
    },
    {
      "cell_type": "markdown",
      "source": [
        "**Using 'with' Statement for File Handling**"
      ],
      "metadata": {
        "id": "UuIi_IWpP7qc"
      }
    },
    {
      "cell_type": "code",
      "source": [
        "# The 'with' statement ensures that the file is properly closed after its suite finishes\n",
        "\n",
        "with open('/content/example.txt', 'r') as file:\n",
        "    content = file.read()\n",
        "    print(content)\n"
      ],
      "metadata": {
        "colab": {
          "base_uri": "https://localhost:8080/"
        },
        "id": "UTWyx_MaP3YY",
        "outputId": "6334974c-2c38-4df7-a3d7-71924a1423e5"
      },
      "execution_count": null,
      "outputs": [
        {
          "output_type": "stream",
          "name": "stdout",
          "text": [
            "Hello I am Huzaifa\n",
            "Today is our amazing class on Python\n",
            "Python is world's biggest programmming language\n"
          ]
        }
      ]
    },
    {
      "cell_type": "markdown",
      "source": [
        "**Reading Lines from a File**"
      ],
      "metadata": {
        "id": "rjgnQdP-QMGM"
      }
    },
    {
      "cell_type": "code",
      "source": [
        "with open('/content/example.txt', 'r') as file:\n",
        "    for line in file:\n",
        "        print(line)\n"
      ],
      "metadata": {
        "colab": {
          "base_uri": "https://localhost:8080/"
        },
        "id": "Kd0HAZysQHEC",
        "outputId": "59c573e2-b2a6-459d-d4dd-be888b2095cf"
      },
      "execution_count": null,
      "outputs": [
        {
          "output_type": "stream",
          "name": "stdout",
          "text": [
            "Hello I am Huzaifa\n",
            "\n",
            "Today is our amazing class on Python\n",
            "\n",
            "Python is world's biggest programmming language\n"
          ]
        }
      ]
    },
    {
      "cell_type": "markdown",
      "source": [
        "**Exploring File Methods**"
      ],
      "metadata": {
        "id": "vhRehp3nQUCX"
      }
    },
    {
      "cell_type": "code",
      "source": [
        "with open('example.txt', 'r') as file:\n",
        "    print(\"File Name:\", file.name)\n",
        "    print(\"File Mode:\", file.mode)\n",
        "    file.close()\n",
        "    print(\"Is File Closed?\", file.closed)\n"
      ],
      "metadata": {
        "colab": {
          "base_uri": "https://localhost:8080/"
        },
        "id": "JmNIoYUJQQqG",
        "outputId": "a5fd636c-78ce-4e54-d34a-d073cd81f74d"
      },
      "execution_count": null,
      "outputs": [
        {
          "output_type": "stream",
          "name": "stdout",
          "text": [
            "File Name: example.txt\n",
            "File Mode: r\n",
            "Is File Closed? True\n"
          ]
        }
      ]
    },
    {
      "cell_type": "markdown",
      "source": [
        "## **6.4 Working with Different File Formats**\n",
        "\n",
        "In this section, we'll explore how to work with different file formats such as CSV and JSON. These formats are commonly used for storing and exchanging data.\n",
        "\n",
        "\n",
        "<br>\n",
        "\n",
        "**Working with CSV Files**\n"
      ],
      "metadata": {
        "id": "G6ZL_52ERfGu"
      }
    },
    {
      "cell_type": "code",
      "source": [
        "import csv\n",
        "\n",
        "# Writing to a CSV File\n",
        "with open('data.csv', 'w', newline='') as file:\n",
        "    writer = csv.writer(file)\n",
        "    writer.writerow([\"Name\", \"Age\", \"Occupation\"])\n",
        "    writer.writerow([\"Alice\", 30, \"Engineer\"])\n",
        "    writer.writerow([\"Huzaifa\", 23, \"Architect\"])\n",
        "    writer.writerow([\"Maham\", 10, \"Doctor\"])\n",
        "    writer.writerow([\"Zain\", 40, \"Designer\"])\n",
        "    writer.writerow([\"Mark\", 40, \"CEO Meta\"])\n",
        "    writer.writerow([\"Elon\", 40, \"CEO Tesla\"])\n",
        "\n",
        "# Reading from a CSV File\n",
        "with open('data.csv', 'r') as file:\n",
        "    reader = csv.reader(file)\n",
        "    for row in reader:\n",
        "        print(row)\n"
      ],
      "metadata": {
        "colab": {
          "base_uri": "https://localhost:8080/"
        },
        "id": "YElcHhKzR0qQ",
        "outputId": "9e46e240-a73e-46c6-a000-d34da533e5ad"
      },
      "execution_count": null,
      "outputs": [
        {
          "output_type": "stream",
          "name": "stdout",
          "text": [
            "['Name', 'Age', 'Occupation']\n",
            "['Alice', '30', 'Engineer']\n",
            "['Huzaifa', '23', 'Architect']\n",
            "['Maham', '10', 'Doctor']\n",
            "['Zain', '40', 'Designer']\n",
            "['Mark', '40', 'CEO Meta']\n",
            "['Elon', '40', 'CEO Tesla']\n"
          ]
        }
      ]
    },
    {
      "cell_type": "code",
      "source": [
        "# Working with JSON Files\n",
        "\n",
        "import json\n",
        "\n",
        "# Writing to a JSON File\n",
        "data = {\"Name\": \"Alice\", \"Age\": 30, \"Occupation\": \"Engineer\"}\n",
        "with open('data.json', 'w') as file:\n",
        "    json.dump(data, file)\n",
        "\n",
        "# Reading from a JSON File\n",
        "with open('data.json', 'r') as file:\n",
        "    data_read = json.load(file)\n",
        "    print(data_read)\n"
      ],
      "metadata": {
        "colab": {
          "base_uri": "https://localhost:8080/"
        },
        "id": "94BFcAXuSADM",
        "outputId": "ec98f503-8b39-4ec1-dc72-496172e72197"
      },
      "execution_count": null,
      "outputs": [
        {
          "output_type": "stream",
          "name": "stdout",
          "text": [
            "{'Name': 'Alice', 'Age': 30, 'Occupation': 'Engineer'}\n"
          ]
        }
      ]
    },
    {
      "cell_type": "markdown",
      "source": [
        "\n",
        "\n",
        "### **Homework Day 6: File Input/Output in Python**\n",
        "\n",
        "#### **Task 1: Create a Personal Diary System**\n",
        "\n",
        "**Objective:** Create a simple personal diary system where users can write, read, and search for entries by date.\n",
        "\n",
        "**Hints:**\n",
        "- Use text files to store diary entries.\n",
        "- Each entry can be stored with a timestamp.\n",
        "- Implement functions to write, read, and search entries.\n",
        "\n",
        "**Logic:**\n",
        "1. **Write Function:** Open a file in append mode and write the user's entry along with the current date and time.\n",
        "2. **Read Function:** Open the file in read mode and display all entries or entries for a specific date.\n",
        "3. **Search Function:** Open the file in read mode and search for entries containing specific keywords or dates.\n",
        "\n",
        "---\n",
        "\n",
        "#### **Task 2: Analyze a CSV File of Products**\n",
        "\n",
        "**Objective:** Read a CSV file containing product information (e.g., Product ID, Name, Price) and perform analysis such as finding the most expensive product, the total number of products, and the average price.\n",
        "\n",
        "**Hints:**\n",
        "- Use the `csv` module to read the CSV file.\n",
        "- Store the products in a list of dictionaries for easy analysis.\n",
        "\n",
        "**Logic:**\n",
        "1. **Read CSV File:** Open the CSV file in read mode and use the `csv.reader` or `csv.DictReader` to read the content into a list of dictionaries.\n",
        "2. **Find Most Expensive Product:** Iterate through the list and find the product with the highest price.\n",
        "3. **Calculate Total Number of Products:** Use the `len` function on the list of products.\n",
        "4. **Calculate Average Price:** Sum the prices of all products and divide by the total number of products.\n",
        "\n"
      ],
      "metadata": {
        "id": "AMqeiRcPSY8v"
      }
    }
  ]
}