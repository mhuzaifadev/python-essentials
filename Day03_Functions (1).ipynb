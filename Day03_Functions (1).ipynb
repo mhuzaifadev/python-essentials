{
  "cells": [
    {
      "cell_type": "markdown",
      "source": [
        "# **Chapter 3: Functions**\n",
        "\n",
        "## **3.1 Introduction to Functions**\n",
        "\n",
        "Functions allow us to reuse code and make our programs more modular.\n",
        "Syntax for defining functions: def\n",
        "\n",
        "```python\n",
        "  function_name(parameters):\n",
        "    #code\n",
        "```\n"
      ],
      "metadata": {
        "id": "4p42KdizOnj9"
      },
      "id": "4p42KdizOnj9"
    },
    {
      "cell_type": "code",
      "source": [
        "def say_hello():\n",
        "  print(\"Hello \")\n",
        "  print(\"Hello World\")\n",
        "  print(\"Hello \")\n",
        "  print(\"Hello World\")\n",
        "  print(\"Hello \")\n",
        "  print(\"Hello World\")\n",
        "  print(\"Hello \")\n",
        "  print(\"Hello World\")\n",
        "  print(\"Hello \")"
      ],
      "metadata": {
        "id": "jVehsEyfntN-"
      },
      "id": "jVehsEyfntN-",
      "execution_count": 8,
      "outputs": []
    },
    {
      "cell_type": "code",
      "source": [
        "say_hello()"
      ],
      "metadata": {
        "colab": {
          "base_uri": "https://localhost:8080/"
        },
        "id": "BQf7FNf4oZKo",
        "outputId": "fb0c1821-3f91-45d7-be78-de2158d0c0d3"
      },
      "id": "BQf7FNf4oZKo",
      "execution_count": 11,
      "outputs": [
        {
          "output_type": "stream",
          "name": "stdout",
          "text": [
            "Hello \n",
            "Hello World\n",
            "Hello \n",
            "Hello World\n",
            "Hello \n",
            "Hello World\n",
            "Hello \n",
            "Hello World\n",
            "Hello \n"
          ]
        }
      ]
    },
    {
      "cell_type": "code",
      "source": [
        "# Functions allow us to reuse code and make our programs more modular.\n",
        "# Syntax for defining functions: def function_name(parameters):\n",
        "\n",
        "\n",
        "def greet(name):\n",
        "    \"\"\"\n",
        "    Function to greet a person by name.\n",
        "    \"\"\"\n",
        "    print(\"Hello, \" + name)"
      ],
      "metadata": {
        "id": "HryfFSm8PM55"
      },
      "id": "HryfFSm8PM55",
      "execution_count": 32,
      "outputs": []
    },
    {
      "cell_type": "code",
      "source": [
        "greet(\"Ayesha\")\n",
        "greet(\"Rizwan\")\n",
        "greet(\"Nabia\")\n",
        "greet(\"Zeeshan\")\n"
      ],
      "metadata": {
        "colab": {
          "base_uri": "https://localhost:8080/"
        },
        "id": "bL33rK6vpI_b",
        "outputId": "a6ec4b01-2673-48d3-e5de-b2548af51823"
      },
      "id": "bL33rK6vpI_b",
      "execution_count": 33,
      "outputs": [
        {
          "output_type": "stream",
          "name": "stdout",
          "text": [
            "Hello, Ayesha\n",
            "Hello, Rizwan\n",
            "Hello, Nabia\n",
            "Hello, Zeeshan\n"
          ]
        }
      ]
    },
    {
      "cell_type": "markdown",
      "source": [
        "## **3.2 Function Parameters**\n",
        "\n",
        "Functions can have parameters, which are variables that hold the values passed to the function. Parameters can have default values and can be passed as positional or keyword arguments."
      ],
      "metadata": {
        "id": "ER7DqzCbPTds"
      },
      "id": "ER7DqzCbPTds"
    },
    {
      "cell_type": "code",
      "source": [
        "def power(base, exponent=2):\n",
        "    \"\"\"\n",
        "    Function to calculate the power of a number.\n",
        "    \"\"\"\n",
        "    # print(base,\"^\",exponent)\n",
        "    result = base ** exponent\n",
        "    return result"
      ],
      "metadata": {
        "id": "qEPm5uy3PhI6"
      },
      "id": "qEPm5uy3PhI6",
      "execution_count": 46,
      "outputs": []
    },
    {
      "cell_type": "code",
      "source": [
        "var1 = power(9,3)\n",
        "var2 = power(7,4)\n",
        "var3 = power(2,2)\n"
      ],
      "metadata": {
        "colab": {
          "base_uri": "https://localhost:8080/"
        },
        "id": "99_97D38rEdf",
        "outputId": "84886bcb-ea00-4f25-f0f3-0f1e69fa3273"
      },
      "id": "99_97D38rEdf",
      "execution_count": 53,
      "outputs": [
        {
          "output_type": "stream",
          "name": "stdout",
          "text": [
            "725\n"
          ]
        }
      ]
    },
    {
      "cell_type": "markdown",
      "source": [
        "## **3.3 Returning Values from Functions**\n",
        "\n",
        "Functions can return values using the 'return' statement. A function can return a single value or multiple values (as a tuple)."
      ],
      "metadata": {
        "id": "QNKWngaTPkS8"
      },
      "id": "QNKWngaTPkS8"
    },
    {
      "cell_type": "code",
      "source": [
        "def calculate_sum(a, b):\n",
        "    \"\"\"\n",
        "    Function to calculate the sum of two numbers.\n",
        "    \"\"\"\n",
        "    return a + b"
      ],
      "metadata": {
        "id": "G-QhDwjJPwZa"
      },
      "id": "G-QhDwjJPwZa",
      "execution_count": 61,
      "outputs": []
    },
    {
      "cell_type": "code",
      "source": [
        "calculate_sum(20,2)"
      ],
      "metadata": {
        "colab": {
          "base_uri": "https://localhost:8080/"
        },
        "id": "ScDJ0o3ZtXQq",
        "outputId": "35257f7e-b9a2-45bb-fa5e-bb016afc4186"
      },
      "id": "ScDJ0o3ZtXQq",
      "execution_count": 62,
      "outputs": [
        {
          "output_type": "execute_result",
          "data": {
            "text/plain": [
              "22"
            ]
          },
          "metadata": {},
          "execution_count": 62
        }
      ]
    },
    {
      "cell_type": "markdown",
      "source": [
        "## **3.4 Function Scope**\n",
        "\n",
        "Variables defined inside a function are called local variables and are only accessible within that function.Variables defined outside any function are called global variables and can be accessed by any function.\n"
      ],
      "metadata": {
        "id": "_be8nI1gPygo"
      },
      "id": "_be8nI1gPygo"
    },
    {
      "cell_type": "code",
      "source": [
        "num1 = 10\n",
        "\n",
        "def calculate_product(num1, num2):\n",
        "    \"\"\"\n",
        "    Function to calculate the product of two numbers.\n",
        "    \"\"\"\n",
        "    # Local variable within the function\n",
        "    product = num1 * num2\n",
        "    return product"
      ],
      "metadata": {
        "id": "10oDFRObP8Ho"
      },
      "id": "10oDFRObP8Ho",
      "execution_count": 79,
      "outputs": []
    },
    {
      "cell_type": "code",
      "source": [
        "\n",
        "calculate_product(5,3)"
      ],
      "metadata": {
        "colab": {
          "base_uri": "https://localhost:8080/"
        },
        "id": "Wz5nVML9t4a2",
        "outputId": "1db77b9e-32da-4e0d-818d-34847c5ee7e0"
      },
      "id": "Wz5nVML9t4a2",
      "execution_count": 80,
      "outputs": [
        {
          "output_type": "execute_result",
          "data": {
            "text/plain": [
              "15"
            ]
          },
          "metadata": {},
          "execution_count": 80
        }
      ]
    },
    {
      "cell_type": "code",
      "source": [
        "def greet_detail(name, age, day, sender):\n",
        "  print(\"Hello \", name)\n",
        "  print(\"I hope you are doing great.\")\n",
        "  print(\"Let's meet on your birthday. I have heard that you will be turning \", age,\" this \",day)\n",
        "  print()\n",
        "  print(\"From: \", sender,\"\\n\")"
      ],
      "metadata": {
        "id": "NDQYUnD1vIn3"
      },
      "id": "NDQYUnD1vIn3",
      "execution_count": 85,
      "outputs": []
    },
    {
      "cell_type": "code",
      "source": [
        "greet_detail(\"Zain\",36,\"Sunday\",\"Huzaifa\")\n",
        "greet_detail(\"John\",26,\"Friday\",\"Ayesha\")\n",
        "greet_detail(\"Wick\",8,\"Monday\",\"Umair\")"
      ],
      "metadata": {
        "colab": {
          "base_uri": "https://localhost:8080/"
        },
        "id": "PVg-UVTsvrpz",
        "outputId": "4dacfed6-400a-4974-b98c-100602e4bd39"
      },
      "id": "PVg-UVTsvrpz",
      "execution_count": 86,
      "outputs": [
        {
          "output_type": "stream",
          "name": "stdout",
          "text": [
            "Hello  Zain\n",
            "I hope you are doing great.\n",
            "Let's meet on your birthday. I have heard that you will be turning  36  this  Sunday\n",
            "\n",
            "From:  Huzaifa \n",
            "\n",
            "Hello  John\n",
            "I hope you are doing great.\n",
            "Let's meet on your birthday. I have heard that you will be turning  26  this  Friday\n",
            "\n",
            "From:  Ayesha \n",
            "\n",
            "Hello  Wick\n",
            "I hope you are doing great.\n",
            "Let's meet on your birthday. I have heard that you will be turning  8  this  Monday\n",
            "\n",
            "From:  Umair \n",
            "\n"
          ]
        }
      ]
    },
    {
      "cell_type": "markdown",
      "source": [
        "## **3.5 Recursions**\n",
        "\n",
        "***Recursion is the process of a function calling itself.***\n",
        "\n",
        "\n",
        "A recursive function has a base case **(the condition to stop recursion)** and a recursive case **(the function calling itself).**"
      ],
      "metadata": {
        "id": "8nbM5nchZx2E"
      },
      "id": "8nbM5nchZx2E"
    },
    {
      "cell_type": "code",
      "source": [
        "# Example 01\n",
        "\n",
        "def countdown(n):\n",
        "    \"\"\"\n",
        "    Recursive function to count down from a number.\n",
        "    \"\"\"\n",
        "    if n <= 0:\n",
        "        print(\"Go!\")\n",
        "    else:\n",
        "        print(n)\n",
        "        countdown(n - 1)\n",
        "        print(\"The function with\", n, \"is exiting\")"
      ],
      "metadata": {
        "id": "8B-eVZGGawwr"
      },
      "id": "8B-eVZGGawwr",
      "execution_count": 97,
      "outputs": []
    },
    {
      "cell_type": "code",
      "source": [
        "countdown(5)"
      ],
      "metadata": {
        "colab": {
          "base_uri": "https://localhost:8080/"
        },
        "id": "ImvxR8mkxcHU",
        "outputId": "033cb797-efbb-4ef3-ea25-ed042cffb547"
      },
      "id": "ImvxR8mkxcHU",
      "execution_count": 98,
      "outputs": [
        {
          "output_type": "stream",
          "name": "stdout",
          "text": [
            "5\n",
            "4\n",
            "3\n",
            "2\n",
            "1\n",
            "Go!\n",
            "The function with 1 is exiting\n",
            "The function with 2 is exiting\n",
            "The function with 3 is exiting\n",
            "The function with 4 is exiting\n",
            "The function with 5 is exiting\n"
          ]
        }
      ]
    },
    {
      "cell_type": "code",
      "source": [
        "# Example 02\n",
        "\n",
        "def factorial(n):\n",
        "    \"\"\"\n",
        "    Recursive function to calculate the factorial of a number.\n",
        "    \"\"\"\n",
        "    if n == 0:\n",
        "        return 1\n",
        "    else:\n",
        "        return n * factorial(n-1)"
      ],
      "metadata": {
        "id": "K0nSj-H-Z-zy"
      },
      "id": "K0nSj-H-Z-zy",
      "execution_count": 99,
      "outputs": []
    },
    {
      "cell_type": "code",
      "source": [
        "factorial(5)"
      ],
      "metadata": {
        "colab": {
          "base_uri": "https://localhost:8080/"
        },
        "id": "ZbS6g-qX20Zf",
        "outputId": "4c1b6f1d-1544-4991-845c-a4abfe8bc343"
      },
      "id": "ZbS6g-qX20Zf",
      "execution_count": 105,
      "outputs": [
        {
          "output_type": "execute_result",
          "data": {
            "text/plain": [
              "120"
            ]
          },
          "metadata": {},
          "execution_count": 105
        }
      ]
    },
    {
      "cell_type": "code",
      "source": [
        "# Example 03\n",
        "\n",
        "def sum_list(numbers):\n",
        "    \"\"\"\n",
        "    Recursive function to calculate the sum of a list of numbers.\n",
        "    \"\"\"\n",
        "    if len(numbers) == 0:\n",
        "        return 0\n",
        "    else:\n",
        "        return numbers[0] + sum_list(numbers[1:])"
      ],
      "metadata": {
        "id": "ijYpQcHGa3hI"
      },
      "id": "ijYpQcHGa3hI",
      "execution_count": null,
      "outputs": []
    },
    {
      "cell_type": "markdown",
      "source": [
        "## **Day 3 Homework**\n",
        "\n",
        "**Question 1: Functions**\n",
        "\n",
        "Write a function called **`calculate_area`** that calculates the area of a rectangle. The function should take two parameters: **length** and **width**, which represent the length and width of the rectangle respectively. The function should return the calculated area.\n",
        "\n",
        "Use the formula `area = length * width`.\n",
        "\n",
        "**Expected Usage:**\n",
        "\n",
        "```python\n",
        "area = calculate_area(5, 3)\n",
        "print(\"Area:\", area)  # Output: Area: 15\n",
        "```\n",
        "___\n",
        "\n",
        "\n",
        "**Question 2: Recursion**\n",
        "\n",
        "Write a recursive function called `recursive_stars` that takes a positive integer `n` as input and prints the stars for the size of `rows x cols` from 1 to n. The function should stop when it reaches `n`.\n",
        "\n",
        "**Example Usage**\n",
        "\n",
        "```python\n",
        "recursive_stars(5)\n",
        "```\n",
        "\n",
        "```shell\n",
        "*\n",
        "**\n",
        "***\n",
        "****\n",
        "*****\n",
        "```"
      ],
      "metadata": {
        "id": "FCCruGPzbLxh"
      },
      "id": "FCCruGPzbLxh"
    }
  ],
  "nbformat": 4,
  "nbformat_minor": 5,
  "metadata": {
    "colab": {
      "provenance": []
    },
    "language_info": {
      "name": "python"
    },
    "kernelspec": {
      "name": "python3",
      "display_name": "Python 3"
    }
  }
}